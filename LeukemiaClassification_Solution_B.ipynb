{
  "nbformat": 4,
  "nbformat_minor": 0,
  "metadata": {
    "accelerator": "GPU",
    "colab": {
      "name": "LeukemiaClassification_Solution-B.ipynb",
      "provenance": [],
      "collapsed_sections": []
    },
    "kernelspec": {
      "display_name": "Python 3",
      "name": "python3"
    },
    "language_info": {
      "name": "python"
    }
  },
  "cells": [
    {
      "cell_type": "markdown",
      "metadata": {
        "id": "Y6J-Iz0Kr_as"
      },
      "source": [
        "# Soluzione B\n",
        "\n",
        "Soluzione proposta utilizzando EfficientNetB2 senza inizializzazione dei pesi\n",
        "ma riaddestrandolo completamente."
      ]
    },
    {
      "cell_type": "code",
      "metadata": {
        "id": "VEwdMWXw-AOP"
      },
      "source": [
        "import numpy as np\n",
        "import pandas as pd\n",
        "import tensorflow\n",
        "import os\n",
        "import tqdm\n",
        "import skimage.io\n",
        "import glob\n",
        "import random\n",
        "import cv2\n",
        "from tqdm import tqdm\n",
        "from skimage.io import imread, imshow, imsave\n",
        "from skimage.transform import resize\n",
        "from sklearn.model_selection import train_test_split\n",
        "from sklearn.metrics import confusion_matrix, classification_report\n",
        "from sklearn.utils import shuffle\n",
        "from keras.models import Sequential\n",
        "from keras.preprocessing.image import ImageDataGenerator, load_img\n",
        "from keras.layers import Conv2D, MaxPooling2D, Dropout, Flatten, Dense, Activation, BatchNormalization\n",
        "from tensorflow.keras.optimizers import Adam\n",
        "from keras.callbacks import EarlyStopping, ReduceLROnPlateau, ModelCheckpoint\n",
        "from keras import regularizers\n",
        "from tensorflow.keras.utils import to_categorical\n",
        "from tensorflow.keras import layers\n",
        "import matplotlib.pyplot as plt\n",
        "import matplotlib.image as mpimg\n",
        "%matplotlib inline"
      ],
      "execution_count": 1,
      "outputs": []
    },
    {
      "cell_type": "markdown",
      "metadata": {
        "id": "Skhg-w480YAN"
      },
      "source": [
        "##Caricamento Dataset\n",
        "\n",
        "Inizializzazione del dataset importato direttamente da Kaggle.\n",
        "\n",
        "Nome dataset: [leukemia-classification](https://www.kaggle.com/andrewmvd/leukemia-classification)\n",
        "\n",
        "Proprietario dataset: andrewmvd\n"
      ]
    },
    {
      "cell_type": "code",
      "metadata": {
        "id": "r8dm9GiM-aXN"
      },
      "source": [
        "! pip install -q kaggle"
      ],
      "execution_count": 2,
      "outputs": []
    },
    {
      "cell_type": "markdown",
      "metadata": {
        "id": "2nFtKZB90axV"
      },
      "source": [
        "###Caricamento JSON con token kaggle\n",
        "\n",
        "{'kaggle.json': b'{\"username\":\"nome-utente\",\"key\":\"keyboard-cat\"}'}\n"
      ]
    },
    {
      "cell_type": "code",
      "metadata": {
        "id": "W6_BTe64-cxH"
      },
      "source": [
        "from google.colab import files \n",
        "files.upload()"
      ],
      "execution_count": null,
      "outputs": []
    },
    {
      "cell_type": "code",
      "metadata": {
        "id": "oO2ZMq8w-eJb"
      },
      "source": [
        "! mkdir ~/.kaggle \n",
        "! cp kaggle.json ~/.kaggle/"
      ],
      "execution_count": 4,
      "outputs": []
    },
    {
      "cell_type": "code",
      "metadata": {
        "id": "7gxJ3KTU-fqI"
      },
      "source": [
        "! chmod 600 ~/.kaggle/kaggle.json"
      ],
      "execution_count": 5,
      "outputs": []
    },
    {
      "cell_type": "code",
      "metadata": {
        "colab": {
          "base_uri": "https://localhost:8080/"
        },
        "id": "I_QvAWfy-iup",
        "outputId": "1111cb45-22a3-417d-d7c2-4ea1a57ad474"
      },
      "source": [
        "! kaggle datasets download -d andrewmvd/leukemia-classification"
      ],
      "execution_count": 6,
      "outputs": [
        {
          "output_type": "stream",
          "text": [
            "Downloading leukemia-classification.zip to /content\n",
            " 99% 856M/867M [00:27<00:00, 79.2MB/s]\n",
            "100% 867M/867M [00:27<00:00, 33.0MB/s]\n"
          ],
          "name": "stdout"
        }
      ]
    },
    {
      "cell_type": "code",
      "metadata": {
        "id": "dbFOqiA_-k--"
      },
      "source": [
        "! unzip leukemia-classification.zip"
      ],
      "execution_count": null,
      "outputs": []
    },
    {
      "cell_type": "markdown",
      "metadata": {
        "id": "X-3ohG2vSO6s"
      },
      "source": [
        "Esempio di immagine appartenente alla classe All (Malate)"
      ]
    },
    {
      "cell_type": "code",
      "metadata": {
        "colab": {
          "base_uri": "https://localhost:8080/",
          "height": 269
        },
        "id": "KQnsz9mjRQNL",
        "outputId": "6e113ab7-8b94-4661-d9d2-872291bb62d7"
      },
      "source": [
        "img = mpimg.imread('C-NMC_Leukemia/training_data/fold_2/all/UID_25_12_6_all.bmp')\n",
        "imgplot = plt.imshow(img)\n",
        "plt.show()"
      ],
      "execution_count": 8,
      "outputs": [
        {
          "output_type": "display_data",
          "data": {
            "image/png": "[encoded data removed]",
            "text/plain": [
              "<Figure size 432x288 with 1 Axes>"
            ]
          },
          "metadata": {
            "needs_background": "light"
          }
        }
      ]
    },
    {
      "cell_type": "markdown",
      "metadata": {
        "id": "ZrUMLS-6Wzks"
      },
      "source": [
        "Esempio di immagine appartenente alla classe Hem (Sane)"
      ]
    },
    {
      "cell_type": "code",
      "metadata": {
        "colab": {
          "base_uri": "https://localhost:8080/",
          "height": 269
        },
        "id": "Y5ggRTWCSdXx",
        "outputId": "9e5d1f07-84b2-4772-b146-f7c1beb7a25f"
      },
      "source": [
        "img = mpimg.imread('C-NMC_Leukemia/training_data/fold_2/hem/UID_H13_11_1_hem.bmp')\n",
        "imgplot = plt.imshow(img)\n",
        "plt.show()"
      ],
      "execution_count": 9,
      "outputs": [
        {
          "output_type": "display_data",
          "data": {
            "image/png": "[encoded data removed]",
            "text/plain": [
              "<Figure size 432x288 with 1 Axes>"
            ]
          },
          "metadata": {
            "needs_background": "light"
          }
        }
      ]
    },
    {
      "cell_type": "markdown",
      "metadata": {
        "id": "hYndKCShs0Uv"
      },
      "source": [
        "## Inizializzazione immagini"
      ]
    },
    {
      "cell_type": "code",
      "metadata": {
        "id": "6Mnkt6R9-mz_"
      },
      "source": [
        "if os.path.exists(\"./leukemia-classification.zip\"):\n",
        "  os.remove(\"./leukemia-classification.zip\")\n",
        "# elimino file non utilizzabili (test set non etichettato)\n",
        "delete_test_file = glob.glob('./C-NMC_Leukemia/testing_data/C-NMC_test_final_phase_data/*.bmp')\n",
        "for file in delete_test_file:\n",
        "  os.remove(file)\n",
        "\n",
        "train_dataset_0_all = glob.glob('./C-NMC_Leukemia/training_data/fold_0/all/*.bmp')\n",
        "train_dataset_0_hem = glob.glob('./C-NMC_Leukemia/training_data/fold_0/hem/*.bmp')\n",
        "train_dataset_1_all = glob.glob('./C-NMC_Leukemia/training_data/fold_1/all/*.bmp')\n",
        "train_dataset_1_hem = glob.glob('./C-NMC_Leukemia/training_data/fold_1/hem/*.bmp')\n",
        "train_dataset_2_all = glob.glob('./C-NMC_Leukemia/training_data/fold_2/all/*.bmp')\n",
        "train_dataset_2_hem = glob.glob('./C-NMC_Leukemia/training_data/fold_2/hem/*.bmp')\n",
        "\n",
        "valid_data = pd.read_csv('./C-NMC_Leukemia/validation_data/C-NMC_test_prelim_phase_data_labels.csv')"
      ],
      "execution_count": 14,
      "outputs": []
    },
    {
      "cell_type": "markdown",
      "metadata": {
        "id": "0mSJN4sas7p4"
      },
      "source": [
        "Definizione proprietà delle immagini"
      ]
    },
    {
      "cell_type": "code",
      "metadata": {
        "id": "xVVD4Z9J9FON"
      },
      "source": [
        "#Dimensioni immagini per EfficientNetB3\n",
        "IMAGE_WIDTH = 260  \n",
        "IMAGE_HEIGHT = 260\n",
        "\n",
        "IMAGE_SIZE = (IMAGE_WIDTH, IMAGE_HEIGHT)\n",
        "IMAGE_CHANNELS = 3"
      ],
      "execution_count": 15,
      "outputs": []
    },
    {
      "cell_type": "markdown",
      "metadata": {
        "id": "8WOgKBLLs-9o"
      },
      "source": [
        "Unione immagini presenti nelle cartelle di train e di validation"
      ]
    },
    {
      "cell_type": "code",
      "metadata": {
        "id": "pHodGdpdVi1-"
      },
      "source": [
        "inp_test_path = \"/content/C-NMC_Leukemia/validation_data/C-NMC_test_prelim_phase_data/\"\n",
        "#Dataset\n",
        "valid_data_all = []\n",
        "valid_data_hem = []\n",
        "\n",
        "dataset_all = train_dataset_0_all + train_dataset_1_all + train_dataset_2_all\n",
        "dataset_hem = train_dataset_0_hem + train_dataset_1_hem + train_dataset_2_hem \n",
        "\n",
        "#Label\n",
        "valid_label_all = []\n",
        "valid_label_hem = []\n",
        "label_all =  [\"1\" for x in range(len(dataset_all))] \n",
        "label_hem = [\"0\" for x in range(len(dataset_hem))] \n",
        "\n",
        "\n",
        "for index, row in valid_data.iterrows():\n",
        "  if row['labels'] == 0:\n",
        "    valid_data_hem.append(inp_test_path + row['new_names'])\n",
        "    valid_label_hem.append(\"0\")\n",
        "  else: \n",
        "    valid_data_all.append(inp_test_path + row['new_names'])\n",
        "    valid_label_all.append(\"1\")\n",
        "\n",
        "dataset = dataset_all + dataset_hem + valid_data_all + valid_data_hem\n",
        "label = label_all + label_hem + valid_label_all + valid_label_hem"
      ],
      "execution_count": 16,
      "outputs": []
    },
    {
      "cell_type": "code",
      "metadata": {
        "colab": {
          "base_uri": "https://localhost:8080/"
        },
        "id": "CaF-zzcvXPk4",
        "outputId": "3541ae72-bdfc-4407-f75e-230024632077"
      },
      "source": [
        "print(\"Num of image All: \" + str(len(dataset_all) + len(valid_data_all)))\n",
        "print(\"Num of image Hem: \" + str(len(dataset_hem) + len(valid_data_hem)))\n",
        "print(\"Total image: \" + str(len(dataset))) #Train + valid original"
      ],
      "execution_count": 17,
      "outputs": [
        {
          "output_type": "stream",
          "text": [
            "Num of image All: 8491\n",
            "Num of image Hem: 4037\n",
            "Total image: 12528\n"
          ],
          "name": "stdout"
        }
      ]
    },
    {
      "cell_type": "markdown",
      "metadata": {
        "id": "szDtxvpA1HEo"
      },
      "source": [
        "## Image Pre-processing"
      ]
    },
    {
      "cell_type": "code",
      "metadata": {
        "id": "Nsq2lzcnS_RV"
      },
      "source": [
        "def plot2Image(image, image2):\n",
        "  plt.figure(figsize = (10, 10))\n",
        "  plt.subplot(1, 2, 1)\n",
        "  plt.imshow(image)\n",
        "  plt.subplot(1, 2, 2)\n",
        "  plt.imshow(image2)\n",
        "  plt.tight_layout()\n",
        "  plt.show()"
      ],
      "execution_count": 18,
      "outputs": []
    },
    {
      "cell_type": "code",
      "metadata": {
        "id": "WXcWMCAZ_-lu"
      },
      "source": [
        "def bbox_center_crop(image, size=(450,450)):\n",
        "  gray = cv2.cvtColor(image, cv2.COLOR_RGB2GRAY);\n",
        "  retval, mask = cv2.threshold(gray, 1, 255, cv2.THRESH_BINARY)\n",
        "  contours,hierarchy = cv2.findContours(mask, cv2.RETR_EXTERNAL, 2)\n",
        "  x,y,w,h = cv2.boundingRect(contours[0])\n",
        "  x,y = x + (size[0] // 2), y + (size[1] // 2)\n",
        "  new_image = cv2.copyMakeBorder(image, size[1] // 2,size[1] // 2,size[0] // 2,size[0] // 2, cv2.BORDER_CONSTANT, value=[0,0,0])                  \n",
        "  bbox_center_x = x + (w//2)\n",
        "  bbox_center_y = y + (h//2)\n",
        "  x = bbox_center_x - (size[0]//2)\n",
        "  y = bbox_center_y - (size[1]//2)\n",
        "  return new_image[y : y + size[1], x : x + size[0], :]"
      ],
      "execution_count": 19,
      "outputs": []
    },
    {
      "cell_type": "code",
      "metadata": {
        "colab": {
          "base_uri": "https://localhost:8080/"
        },
        "id": "aUbIENH4Vo-N",
        "outputId": "968d293c-dd4f-4840-c598-2fc4ce70f9ce"
      },
      "source": [
        "with tensorflow.device('/device:GPU:0'):\n",
        "  for filename in tqdm(dataset):\n",
        "    img = imread(filename)\n",
        "    cropped = bbox_center_crop(img, IMAGE_SIZE)\n",
        "    imsave(filename, cropped)"
      ],
      "execution_count": 20,
      "outputs": [
        {
          "output_type": "stream",
          "text": [
            "100%|██████████| 12528/12528 [03:04<00:00, 68.05it/s]\n"
          ],
          "name": "stderr"
        }
      ]
    },
    {
      "cell_type": "markdown",
      "metadata": {
        "id": "Y8y4T1qXTNil"
      },
      "source": [
        "Esempio di immagine dopo aver effettato l'operazione di cropping."
      ]
    },
    {
      "cell_type": "code",
      "metadata": {
        "colab": {
          "base_uri": "https://localhost:8080/",
          "height": 269
        },
        "id": "0jvzD9oITSu6",
        "outputId": "fa913c77-b929-4b3b-da61-e1008782e901"
      },
      "source": [
        "img = mpimg.imread('C-NMC_Leukemia/training_data/fold_2/all/UID_25_12_6_all.bmp')\n",
        "imgplot = plt.imshow(img)\n",
        "plt.show()"
      ],
      "execution_count": 17,
      "outputs": [
        {
          "output_type": "display_data",
          "data": {
            "image/png": "[encoded data removed]",
            "text/plain": [
              "<Figure size 432x288 with 1 Axes>"
            ]
          },
          "metadata": {
            "needs_background": "light"
          }
        }
      ]
    },
    {
      "cell_type": "markdown",
      "metadata": {
        "id": "2PP_JI1PtHf-"
      },
      "source": [
        "## Data Augmetation\n",
        "In questa fase vengono aumentate le immagini del training set e del validation set, apportando delle modifiche a delle immagini già presenti al loro interno.\n",
        "\n",
        "Le operazioni effettuate sono \n",
        "\n",
        "1.   Rotazione \n",
        "2.   Flip (verticale o orizontale)\n",
        "3.   Shearing\n",
        "4.   Gaussian blur\n"
      ]
    },
    {
      "cell_type": "code",
      "metadata": {
        "id": "crrCI6IeaXg5"
      },
      "source": [
        "TOTAL_SAMPLE_IN_TRAIN = 10000\n",
        "TOTAL_SAMPLE_IN_VALIDATION = 2000\n",
        "random.seed(42)"
      ],
      "execution_count": 8,
      "outputs": []
    },
    {
      "cell_type": "code",
      "metadata": {
        "id": "s5kBe3dV3Qy4"
      },
      "source": [
        "def removeBackground(image):\n",
        "    if len(image.shape)==3:\n",
        "        mask = cv2.cvtColor(image, cv2.COLOR_BGR2GRAY)\n",
        "        _,mask = cv2.threshold(mask, 1, 255, cv2.THRESH_BINARY)\n",
        "        contours, _ = cv2.findContours(mask, 1, 2)\n",
        "        c = max(contours, key=cv2.contourArea)\n",
        "        x,y,w,h = cv2.boundingRect(c)\n",
        "        return image[y:y+h, x:x+w, :]\n",
        "    elif len(image.shape)==2:\n",
        "        _,mask = cv2.threshold(image, 1, 255, cv2.THRESH_BINARY)\n",
        "        contours, _ = cv2.findContours(mask, 1, 2)\n",
        "        c = max(contours, key=cv2.contourArea)\n",
        "        x,y,w,h = cv2.boundingRect(c)\n",
        "        return image[y:y+h, x:x+w]"
      ],
      "execution_count": 9,
      "outputs": []
    },
    {
      "cell_type": "code",
      "metadata": {
        "id": "2uqUfzbLN98O"
      },
      "source": [
        "def shearImage(image, s=(0.1, 0.35)):\n",
        "    shearV = round(np.random.uniform(s[0], s[1]), 2)\n",
        "    shearMatrix_X = np.array([[1.0, shearV, 0.0],\n",
        "                              [0.0, 1.0, 0.0],\n",
        "                              [0.0, 0.0, 1.0]])\n",
        "    shearV = round(np.random.uniform(s[0], s[1]), 2)\n",
        "    shearMatrix_Y = np.array([[1.0, 0.0, 0.0],\n",
        "                              [shearV, 1.0, 0.0],\n",
        "                              [0.0, 0.0, 1.0]])\n",
        "    img = cv2.copyMakeBorder(image,225,225,225,225,cv2.BORDER_CONSTANT,value=[0,0,0])\n",
        "    height, width, _ = img.shape\n",
        "    shearAxis = np.random.choice([-1, 0, 1])\n",
        "    if shearAxis==-1:\n",
        "        img = cv2.warpPerspective(img, shearMatrix_X, (height,width))\n",
        "    elif shearV==1:\n",
        "        img = cv2.warpPerspective(img, shearMatrix_Y, (height,width))\n",
        "    else:\n",
        "        img = cv2.warpPerspective(img, shearMatrix_X, (height,width))\n",
        "        img = cv2.warpPerspective(img, shearMatrix_Y, (height,width))\n",
        "    img = removeBackground(img)\n",
        "    w, h, _ = img.shape\n",
        "    img = cv2.copyMakeBorder(img, (IMAGE_WIDTH//2)+1, (IMAGE_WIDTH//2)+1,\n",
        "                                  (IMAGE_HEIGHT//2)+1, (IMAGE_HEIGHT//2)+1,\n",
        "                                  cv2.BORDER_CONSTANT,value=[0,0,0])\n",
        "    newW, newH, _ = img.shape\n",
        "    \n",
        "    img = img[(newH // 2) - IMAGE_HEIGHT // 2 : (newH // 2) + IMAGE_HEIGHT // 2,\n",
        "              (newW // 2) - IMAGE_WIDTH // 2 : (newW // 2) + IMAGE_WIDTH // 2 , :]\n",
        "    return img"
      ],
      "execution_count": 10,
      "outputs": []
    },
    {
      "cell_type": "code",
      "metadata": {
        "id": "A18hS-gZPdrQ"
      },
      "source": [
        "data_augmentation = tensorflow.keras.Sequential([\n",
        "  layers.experimental.preprocessing.RandomFlip(\"horizontal_and_vertical\", seed=42),\n",
        "  layers.experimental.preprocessing.RandomRotation(0.16, fill_mode= \"constant\", fill_value=.0, seed=42)\n",
        "])\n",
        "\n",
        "def augmentImage(image):\n",
        "  rnd = np.random.uniform(0.0, 1.0)\n",
        "  image2 = tensorflow.expand_dims(image, 0)\n",
        "  rotate_flipped = data_augmentation(image2)[0].numpy()\n",
        "  if rnd < 0.5:\n",
        "    return rotate_flipped\n",
        "  elif rnd >= 0.5 and rnd < 0.66:\n",
        "    return shearImage(rotate_flipped)\n",
        "  elif rnd >= 0.66:\n",
        "    return cv2.GaussianBlur(rotate_flipped,(5,5),0)"
      ],
      "execution_count": 11,
      "outputs": []
    },
    {
      "cell_type": "code",
      "metadata": {
        "id": "6pdMu-R7RTss"
      },
      "source": [
        "out_folder_a = \"./C-NMC_Leukemia/training_data/fold_a\"\n",
        "out_folder_all = \"./C-NMC_Leukemia/training_data/fold_a/all/\"\n",
        "out_folder_hem = \"./C-NMC_Leukemia/training_data/fold_a/hem/\"\n",
        "\n",
        "if not os.path.exists(out_folder_a):\n",
        "  os.mkdir(out_folder_a, mode=777)\n",
        "\n",
        "if not os.path.exists(out_folder_all):\n",
        "  os.mkdir(out_folder_all, mode=777)\n",
        "\n",
        "if not os.path.exists(out_folder_hem):\n",
        "  os.mkdir(out_folder_hem, mode=777)"
      ],
      "execution_count": 12,
      "outputs": []
    },
    {
      "cell_type": "markdown",
      "metadata": {
        "id": "lhGvOcdy1Zj2"
      },
      "source": [
        "### Dataset Split\n",
        "Dopo il pre-processing dell'immagine, le immagini vengono divise su tre insiemi: *train*, *valid*, *test*.\n",
        "\n",
        "Le proporzioni adottate sono: 6-3-1; ovvero nel training set cadranno il 60% delle immagini, il 30% cadranno del validation e le restanti cadranno del test.\n",
        "\n",
        "Infine il training e il validation verranno aumentati con le tecniche sopra descritte."
      ]
    },
    {
      "cell_type": "code",
      "metadata": {
        "id": "s_Is8Xa7ct_9",
        "colab": {
          "base_uri": "https://localhost:8080/"
        },
        "outputId": "4211b231-217b-46b0-a1fb-9fd71fb7bfd1"
      },
      "source": [
        "def augment(data, nsample = 10000):\n",
        "  resdata = data.copy(deep=True)\n",
        "  all = data[data[\"category\"] == \"1\"]\n",
        "  hem = data[data[\"category\"] == \"0\"]\n",
        "  nsample_all = len(all)\n",
        "  nsample_hem = len(hem)\n",
        "\n",
        "  def read_and_augment(row):\n",
        "    image = cv2.imread(row.iloc[0][\"filename\"])\n",
        "    aug = augmentImage(image)\n",
        "    folder = out_folder_all if  row.iloc[0][\"category\"] == \"1\" else out_folder_hem\n",
        "    imagename = folder + str(j) + '_' + os.path.basename(row.iloc[0][\"filename\"])\n",
        "    imsave(imagename, aug)\n",
        "    return imagename, row.iloc[0][\"category\"]\n",
        "\n",
        "  for j in tqdm(range(0, nsample - nsample_all)):\n",
        "    row = all.sample(axis = 0)\n",
        "    newFile, label = read_and_augment(row)\n",
        "    res = {'filename':[newFile], 'category':[label]}\n",
        "    resdata = resdata.append(pd.DataFrame(res), ignore_index=True)\n",
        "\n",
        "  print(len(resdata))\n",
        "\n",
        "  for j in tqdm(range(0, nsample - nsample_hem)):\n",
        "    row = hem.sample(axis = 0)\n",
        "    newFile, label = read_and_augment(row)\n",
        "    res = {'filename':[newFile], 'category':[label]}\n",
        "    resdata = resdata.append(pd.DataFrame(res), ignore_index=True)\n",
        "  print(len(resdata))\n",
        "\n",
        "  return resdata\n",
        "\n",
        "dataset, label = shuffle(dataset, label)\n",
        "d = {'filename':dataset, 'category':label}\n",
        "enteireData = pd.DataFrame(data=d)\n",
        "train, other = train_test_split(enteireData, test_size = 0.4, random_state = 88, shuffle = True)\n",
        "valid, test = train_test_split(other, test_size = 0.25, random_state = 88, shuffle = True)\n",
        "\n",
        "\n",
        "train  = augment(train, 10000)\n",
        "valid  = augment(valid, 2000)"
      ],
      "execution_count": 25,
      "outputs": [
        {
          "output_type": "stream",
          "text": [
            "100%|██████████| 4915/4915 [01:27<00:00, 56.17it/s]\n"
          ],
          "name": "stderr"
        },
        {
          "output_type": "stream",
          "text": [
            "12431\n"
          ],
          "name": "stdout"
        },
        {
          "output_type": "stream",
          "text": [
            "100%|██████████| 7569/7569 [02:13<00:00, 56.70it/s]\n"
          ],
          "name": "stderr"
        },
        {
          "output_type": "stream",
          "text": [
            "20000\n"
          ],
          "name": "stdout"
        },
        {
          "output_type": "stream",
          "text": [
            "0it [00:00, ?it/s]\n"
          ],
          "name": "stderr"
        },
        {
          "output_type": "stream",
          "text": [
            "3759\n"
          ],
          "name": "stdout"
        },
        {
          "output_type": "stream",
          "text": [
            "100%|██████████| 804/804 [00:14<00:00, 57.31it/s]"
          ],
          "name": "stderr"
        },
        {
          "output_type": "stream",
          "text": [
            "4563\n"
          ],
          "name": "stdout"
        },
        {
          "output_type": "stream",
          "text": [
            "\n"
          ],
          "name": "stderr"
        }
      ]
    },
    {
      "cell_type": "code",
      "metadata": {
        "colab": {
          "base_uri": "https://localhost:8080/"
        },
        "id": "-q9mr9zz5ivQ",
        "outputId": "0e51f4da-5caf-4822-a541-058f90c96ca0"
      },
      "source": [
        "print(\"Num of image in training set: \" + str(len(train)))\n",
        "print(\"Num of image in validation set: \" + str(len(valid)))\n",
        "print(\"Num of image in test set: \" + str(len(test))) "
      ],
      "execution_count": 27,
      "outputs": [
        {
          "output_type": "stream",
          "text": [
            "Num of image in training set: 20000\n",
            "Num of image in validation set: 4563\n",
            "Num of image in test set: 1253\n"
          ],
          "name": "stdout"
        }
      ]
    },
    {
      "cell_type": "markdown",
      "metadata": {
        "id": "7XD1j2bCWpvK"
      },
      "source": [
        "Esempio di immage della classe ALL dopo la fase di Augmentation"
      ]
    },
    {
      "cell_type": "code",
      "metadata": {
        "colab": {
          "base_uri": "https://localhost:8080/",
          "height": 269
        },
        "id": "CD-DbpwLV8dL",
        "outputId": "f5040146-d423-4040-9d9f-927e95ab0b7d"
      },
      "source": [
        "img = mpimg.imread('/content/C-NMC_Leukemia/training_data/fold_a/all/1003_UID_45_16_5_all.bmp')\n",
        "imgplot = plt.imshow(img)\n",
        "plt.show()"
      ],
      "execution_count": 32,
      "outputs": [
        {
          "output_type": "display_data",
          "data": {
            "image/png": "[encoded data removed]",
            "text/plain": [
              "<Figure size 432x288 with 1 Axes>"
            ]
          },
          "metadata": {
            "needs_background": "light"
          }
        }
      ]
    },
    {
      "cell_type": "markdown",
      "metadata": {
        "id": "TPcW5G6QWvnJ"
      },
      "source": [
        "Esempio di immage della classe HEM dopo la fase di Augmentation"
      ]
    },
    {
      "cell_type": "code",
      "metadata": {
        "colab": {
          "base_uri": "https://localhost:8080/",
          "height": 269
        },
        "id": "bbbcjwLCWK0C",
        "outputId": "c1cff616-31ce-4198-f9ba-b4e843850ae0"
      },
      "source": [
        "img = mpimg.imread('/content/C-NMC_Leukemia/training_data/fold_a/hem/1008_UID_H12_26_2_hem.bmp')\n",
        "imgplot = plt.imshow(img)\n",
        "plt.show()"
      ],
      "execution_count": 33,
      "outputs": [
        {
          "output_type": "display_data",
          "data": {
            "image/png": "[encoded data removed]",
            "text/plain": [
              "<Figure size 432x288 with 1 Axes>"
            ]
          },
          "metadata": {
            "needs_background": "light"
          }
        }
      ]
    },
    {
      "cell_type": "code",
      "metadata": {
        "colab": {
          "base_uri": "https://localhost:8080/",
          "height": 279
        },
        "id": "d1rxCh1n6Ax2",
        "outputId": "f77aba06-99d2-4fcd-da5e-5e641e558f80"
      },
      "source": [
        "train['category'].value_counts().plot.bar()"
      ],
      "execution_count": null,
      "outputs": [
        {
          "output_type": "execute_result",
          "data": {
            "text/plain": [
              "<matplotlib.axes._subplots.AxesSubplot at 0x7fa61a2e3dd0>"
            ]
          },
          "metadata": {},
          "execution_count": 31
        },
        {
          "output_type": "display_data",
          "data": {
            "image/png": "[encoded data removed]",
            "text/plain": [
              "<Figure size 432x288 with 1 Axes>"
            ]
          },
          "metadata": {
            "needs_background": "light"
          }
        }
      ]
    },
    {
      "cell_type": "code",
      "metadata": {
        "colab": {
          "base_uri": "https://localhost:8080/",
          "height": 279
        },
        "id": "FfYlu91S6DGd",
        "outputId": "b49b9dce-04fa-4920-b3fe-8e497db4e595"
      },
      "source": [
        "valid['category'].value_counts().plot.bar()"
      ],
      "execution_count": null,
      "outputs": [
        {
          "output_type": "execute_result",
          "data": {
            "text/plain": [
              "<matplotlib.axes._subplots.AxesSubplot at 0x7fa61a2639d0>"
            ]
          },
          "metadata": {},
          "execution_count": 32
        },
        {
          "output_type": "display_data",
          "data": {
            "image/png": "[encoded data removed]",
            "text/plain": [
              "<Figure size 432x288 with 1 Axes>"
            ]
          },
          "metadata": {
            "needs_background": "light"
          }
        }
      ]
    },
    {
      "cell_type": "code",
      "metadata": {
        "colab": {
          "base_uri": "https://localhost:8080/",
          "height": 279
        },
        "id": "F7NpEmgK6ER5",
        "outputId": "d5a35ad7-4e47-4398-d37c-c086c5787027"
      },
      "source": [
        "test['category'].value_counts().plot.bar()"
      ],
      "execution_count": null,
      "outputs": [
        {
          "output_type": "execute_result",
          "data": {
            "text/plain": [
              "<matplotlib.axes._subplots.AxesSubplot at 0x7fa61a2454d0>"
            ]
          },
          "metadata": {},
          "execution_count": 33
        },
        {
          "output_type": "display_data",
          "data": {
            "image/png": "[encoded data removed]",
            "text/plain": [
              "<Figure size 432x288 with 1 Axes>"
            ]
          },
          "metadata": {
            "needs_background": "light"
          }
        }
      ]
    },
    {
      "cell_type": "markdown",
      "metadata": {
        "id": "yUSz3C2Av1oI"
      },
      "source": [
        "### Initializzazione generatori\n",
        "\n",
        "Per addestrare il modello facciamo uso di generatori che caricano a runtime le immagini e le forniscono al modello, evitando di saturare la memoria disponibile sulla macchina.\n",
        "\n",
        "Durante la generazione le immagini vengono riscalate da un intervallo di 0-255 a un intervallo da 0-1."
      ]
    },
    {
      "cell_type": "code",
      "metadata": {
        "id": "ZjYfzIcf9Ml8"
      },
      "source": [
        "batch_size = 32"
      ],
      "execution_count": 34,
      "outputs": []
    },
    {
      "cell_type": "code",
      "metadata": {
        "colab": {
          "base_uri": "https://localhost:8080/"
        },
        "id": "gWWFraYaB_6M",
        "outputId": "b056df64-143d-4a8c-ea30-5571b7a68651"
      },
      "source": [
        "train_datagen = ImageDataGenerator(\n",
        "     rescale = 1 / 255.0\n",
        ")\n",
        "\n",
        "train_generator = train_datagen.flow_from_dataframe(\n",
        "    train, \n",
        "    \"./\",\n",
        "    x_col = 'filename',\n",
        "    y_col = 'category',\n",
        "    target_size = IMAGE_SIZE,\n",
        "    class_mode = 'categorical',\n",
        "    batch_size = batch_size\n",
        ")\n"
      ],
      "execution_count": 35,
      "outputs": [
        {
          "output_type": "stream",
          "text": [
            "Found 20000 validated image filenames belonging to 2 classes.\n"
          ],
          "name": "stdout"
        }
      ]
    },
    {
      "cell_type": "code",
      "metadata": {
        "colab": {
          "base_uri": "https://localhost:8080/"
        },
        "id": "tvlC0AwjCDZi",
        "outputId": "dd4a9ff4-479f-4d9a-b983-6efc8ecfb825"
      },
      "source": [
        "validation_datagen = ImageDataGenerator(\n",
        "     rescale = 1 / 255.0\n",
        ")\n",
        "\n",
        "validation_generator = train_datagen.flow_from_dataframe(\n",
        "    valid,\n",
        "    \"./\",\n",
        "    x_col = 'filename',\n",
        "    y_col = 'category',\n",
        "    target_size = IMAGE_SIZE,\n",
        "    class_mode = 'categorical',\n",
        "    batch_size = batch_size\n",
        ")"
      ],
      "execution_count": 36,
      "outputs": [
        {
          "output_type": "stream",
          "text": [
            "Found 4571 validated image filenames belonging to 2 classes.\n"
          ],
          "name": "stdout"
        }
      ]
    },
    {
      "cell_type": "code",
      "metadata": {
        "colab": {
          "base_uri": "https://localhost:8080/"
        },
        "id": "KnEpgMXm1n6u",
        "outputId": "303f7ecf-a0ef-46ad-b193-fabd58f6a577"
      },
      "source": [
        "test_datagen = ImageDataGenerator(\n",
        "    rescale = 1 / 255.0,\n",
        ")\n",
        "\n",
        "test_generator = test_datagen.flow_from_dataframe(\n",
        "    test,\n",
        "    \"./\",\n",
        "    x_col = 'filename',\n",
        "    y_col = 'category',\n",
        "    target_size = IMAGE_SIZE,\n",
        "    class_mode = 'categorical',\n",
        "    batch_size = batch_size,\n",
        "    shuffle = False,\n",
        ")"
      ],
      "execution_count": 37,
      "outputs": [
        {
          "output_type": "stream",
          "text": [
            "Found 1253 validated image filenames belonging to 2 classes.\n"
          ],
          "name": "stdout"
        }
      ]
    },
    {
      "cell_type": "markdown",
      "metadata": {
        "id": "BBPMYVfewACV"
      },
      "source": [
        "### Preparazione del modello"
      ]
    },
    {
      "cell_type": "code",
      "metadata": {
        "id": "9g_rOtqD-IPC"
      },
      "source": [
        "total_train = train.shape[0]\n",
        "total_validate = valid.shape[0]"
      ],
      "execution_count": 38,
      "outputs": []
    },
    {
      "cell_type": "code",
      "metadata": {
        "colab": {
          "base_uri": "https://localhost:8080/"
        },
        "id": "8p3rGxZ-UDvh",
        "outputId": "aaa06214-bbe0-44bb-dd23-dfbd784ff73f"
      },
      "source": [
        "from tensorflow.keras.applications import EfficientNetB2\n",
        "from tensorflow.keras.layers import GlobalAveragePooling2D,Dense,Dropout\n",
        "from tensorflow.keras import Model\n",
        "model_eff = EfficientNetB2(include_top=False, weights=None, input_tensor=None,\n",
        "                    input_shape=(IMAGE_HEIGHT, IMAGE_WIDTH, 3), pooling=None, classes=2)\n",
        "LR_AT_EPOCH0 = 1e-5\n",
        "kernelReg = regularizers.l1_l2(l1=0.0001, l2=0.0001)\n",
        "x = model_eff.output\n",
        "x = GlobalAveragePooling2D()(x)\n",
        "x = Dense(512, activation='relu', kernel_regularizer=kernelReg)(x)\n",
        "x = Dropout(0.5)(x)\n",
        "x = Dense(512, activation='relu', kernel_regularizer=kernelReg)(x)\n",
        "x = Dropout(0.5)(x)\n",
        "predictions = Dense(2, activation=\"softmax\", kernel_regularizer=kernelReg)(x)\n",
        "model = Model(inputs=model_eff.input, outputs=predictions)\n",
        "model.summary()"
      ],
      "execution_count": null,
      "outputs": [
        {
          "output_type": "stream",
          "text": [
            "Model: \"model_2\"\n",
            "__________________________________________________________________________________________________\n",
            "Layer (type)                    Output Shape         Param #     Connected to                     \n",
            "==================================================================================================\n",
            "input_3 (InputLayer)            [(None, 260, 260, 3) 0                                            \n",
            "__________________________________________________________________________________________________\n",
            "rescaling_2 (Rescaling)         (None, 260, 260, 3)  0           input_3[0][0]                    \n",
            "__________________________________________________________________________________________________\n",
            "normalization_2 (Normalization) (None, 260, 260, 3)  7           rescaling_2[0][0]                \n",
            "__________________________________________________________________________________________________\n",
            "stem_conv_pad (ZeroPadding2D)   (None, 261, 261, 3)  0           normalization_2[0][0]            \n",
            "__________________________________________________________________________________________________\n",
            "stem_conv (Conv2D)              (None, 130, 130, 32) 864         stem_conv_pad[0][0]              \n",
            "__________________________________________________________________________________________________\n",
            "stem_bn (BatchNormalization)    (None, 130, 130, 32) 128         stem_conv[0][0]                  \n",
            "__________________________________________________________________________________________________\n",
            "stem_activation (Activation)    (None, 130, 130, 32) 0           stem_bn[0][0]                    \n",
            "__________________________________________________________________________________________________\n",
            "block1a_dwconv (DepthwiseConv2D (None, 130, 130, 32) 288         stem_activation[0][0]            \n",
            "__________________________________________________________________________________________________\n",
            "block1a_bn (BatchNormalization) (None, 130, 130, 32) 128         block1a_dwconv[0][0]             \n",
            "__________________________________________________________________________________________________\n",
            "block1a_activation (Activation) (None, 130, 130, 32) 0           block1a_bn[0][0]                 \n",
            "__________________________________________________________________________________________________\n",
            "block1a_se_squeeze (GlobalAvera (None, 32)           0           block1a_activation[0][0]         \n",
            "__________________________________________________________________________________________________\n",
            "block1a_se_reshape (Reshape)    (None, 1, 1, 32)     0           block1a_se_squeeze[0][0]         \n",
            "__________________________________________________________________________________________________\n",
            "block1a_se_reduce (Conv2D)      (None, 1, 1, 8)      264         block1a_se_reshape[0][0]         \n",
            "__________________________________________________________________________________________________\n",
            "block1a_se_expand (Conv2D)      (None, 1, 1, 32)     288         block1a_se_reduce[0][0]          \n",
            "__________________________________________________________________________________________________\n",
            "block1a_se_excite (Multiply)    (None, 130, 130, 32) 0           block1a_activation[0][0]         \n",
            "                                                                 block1a_se_expand[0][0]          \n",
            "__________________________________________________________________________________________________\n",
            "block1a_project_conv (Conv2D)   (None, 130, 130, 16) 512         block1a_se_excite[0][0]          \n",
            "__________________________________________________________________________________________________\n",
            "block1a_project_bn (BatchNormal (None, 130, 130, 16) 64          block1a_project_conv[0][0]       \n",
            "__________________________________________________________________________________________________\n",
            "block1b_dwconv (DepthwiseConv2D (None, 130, 130, 16) 144         block1a_project_bn[0][0]         \n",
            "__________________________________________________________________________________________________\n",
            "block1b_bn (BatchNormalization) (None, 130, 130, 16) 64          block1b_dwconv[0][0]             \n",
            "__________________________________________________________________________________________________\n",
            "block1b_activation (Activation) (None, 130, 130, 16) 0           block1b_bn[0][0]                 \n",
            "__________________________________________________________________________________________________\n",
            "block1b_se_squeeze (GlobalAvera (None, 16)           0           block1b_activation[0][0]         \n",
            "__________________________________________________________________________________________________\n",
            "block1b_se_reshape (Reshape)    (None, 1, 1, 16)     0           block1b_se_squeeze[0][0]         \n",
            "__________________________________________________________________________________________________\n",
            "block1b_se_reduce (Conv2D)      (None, 1, 1, 4)      68          block1b_se_reshape[0][0]         \n",
            "__________________________________________________________________________________________________\n",
            "block1b_se_expand (Conv2D)      (None, 1, 1, 16)     80          block1b_se_reduce[0][0]          \n",
            "__________________________________________________________________________________________________\n",
            "block1b_se_excite (Multiply)    (None, 130, 130, 16) 0           block1b_activation[0][0]         \n",
            "                                                                 block1b_se_expand[0][0]          \n",
            "__________________________________________________________________________________________________\n",
            "block1b_project_conv (Conv2D)   (None, 130, 130, 16) 256         block1b_se_excite[0][0]          \n",
            "__________________________________________________________________________________________________\n",
            "block1b_project_bn (BatchNormal (None, 130, 130, 16) 64          block1b_project_conv[0][0]       \n",
            "__________________________________________________________________________________________________\n",
            "block1b_drop (Dropout)          (None, 130, 130, 16) 0           block1b_project_bn[0][0]         \n",
            "__________________________________________________________________________________________________\n",
            "block1b_add (Add)               (None, 130, 130, 16) 0           block1b_drop[0][0]               \n",
            "                                                                 block1a_project_bn[0][0]         \n",
            "__________________________________________________________________________________________________\n",
            "block2a_expand_conv (Conv2D)    (None, 130, 130, 96) 1536        block1b_add[0][0]                \n",
            "__________________________________________________________________________________________________\n",
            "block2a_expand_bn (BatchNormali (None, 130, 130, 96) 384         block2a_expand_conv[0][0]        \n",
            "__________________________________________________________________________________________________\n",
            "block2a_expand_activation (Acti (None, 130, 130, 96) 0           block2a_expand_bn[0][0]          \n",
            "__________________________________________________________________________________________________\n",
            "block2a_dwconv_pad (ZeroPadding (None, 131, 131, 96) 0           block2a_expand_activation[0][0]  \n",
            "__________________________________________________________________________________________________\n",
            "block2a_dwconv (DepthwiseConv2D (None, 65, 65, 96)   864         block2a_dwconv_pad[0][0]         \n",
            "__________________________________________________________________________________________________\n",
            "block2a_bn (BatchNormalization) (None, 65, 65, 96)   384         block2a_dwconv[0][0]             \n",
            "__________________________________________________________________________________________________\n",
            "block2a_activation (Activation) (None, 65, 65, 96)   0           block2a_bn[0][0]                 \n",
            "__________________________________________________________________________________________________\n",
            "block2a_se_squeeze (GlobalAvera (None, 96)           0           block2a_activation[0][0]         \n",
            "__________________________________________________________________________________________________\n",
            "block2a_se_reshape (Reshape)    (None, 1, 1, 96)     0           block2a_se_squeeze[0][0]         \n",
            "__________________________________________________________________________________________________\n",
            "block2a_se_reduce (Conv2D)      (None, 1, 1, 4)      388         block2a_se_reshape[0][0]         \n",
            "__________________________________________________________________________________________________\n",
            "block2a_se_expand (Conv2D)      (None, 1, 1, 96)     480         block2a_se_reduce[0][0]          \n",
            "__________________________________________________________________________________________________\n",
            "block2a_se_excite (Multiply)    (None, 65, 65, 96)   0           block2a_activation[0][0]         \n",
            "                                                                 block2a_se_expand[0][0]          \n",
            "__________________________________________________________________________________________________\n",
            "block2a_project_conv (Conv2D)   (None, 65, 65, 24)   2304        block2a_se_excite[0][0]          \n",
            "__________________________________________________________________________________________________\n",
            "block2a_project_bn (BatchNormal (None, 65, 65, 24)   96          block2a_project_conv[0][0]       \n",
            "__________________________________________________________________________________________________\n",
            "block2b_expand_conv (Conv2D)    (None, 65, 65, 144)  3456        block2a_project_bn[0][0]         \n",
            "__________________________________________________________________________________________________\n",
            "block2b_expand_bn (BatchNormali (None, 65, 65, 144)  576         block2b_expand_conv[0][0]        \n",
            "__________________________________________________________________________________________________\n",
            "block2b_expand_activation (Acti (None, 65, 65, 144)  0           block2b_expand_bn[0][0]          \n",
            "__________________________________________________________________________________________________\n",
            "block2b_dwconv (DepthwiseConv2D (None, 65, 65, 144)  1296        block2b_expand_activation[0][0]  \n",
            "__________________________________________________________________________________________________\n",
            "block2b_bn (BatchNormalization) (None, 65, 65, 144)  576         block2b_dwconv[0][0]             \n",
            "__________________________________________________________________________________________________\n",
            "block2b_activation (Activation) (None, 65, 65, 144)  0           block2b_bn[0][0]                 \n",
            "__________________________________________________________________________________________________\n",
            "block2b_se_squeeze (GlobalAvera (None, 144)          0           block2b_activation[0][0]         \n",
            "__________________________________________________________________________________________________\n",
            "block2b_se_reshape (Reshape)    (None, 1, 1, 144)    0           block2b_se_squeeze[0][0]         \n",
            "__________________________________________________________________________________________________\n",
            "block2b_se_reduce (Conv2D)      (None, 1, 1, 6)      870         block2b_se_reshape[0][0]         \n",
            "__________________________________________________________________________________________________\n",
            "block2b_se_expand (Conv2D)      (None, 1, 1, 144)    1008        block2b_se_reduce[0][0]          \n",
            "__________________________________________________________________________________________________\n",
            "block2b_se_excite (Multiply)    (None, 65, 65, 144)  0           block2b_activation[0][0]         \n",
            "                                                                 block2b_se_expand[0][0]          \n",
            "__________________________________________________________________________________________________\n",
            "block2b_project_conv (Conv2D)   (None, 65, 65, 24)   3456        block2b_se_excite[0][0]          \n",
            "__________________________________________________________________________________________________\n",
            "block2b_project_bn (BatchNormal (None, 65, 65, 24)   96          block2b_project_conv[0][0]       \n",
            "__________________________________________________________________________________________________\n",
            "block2b_drop (Dropout)          (None, 65, 65, 24)   0           block2b_project_bn[0][0]         \n",
            "__________________________________________________________________________________________________\n",
            "block2b_add (Add)               (None, 65, 65, 24)   0           block2b_drop[0][0]               \n",
            "                                                                 block2a_project_bn[0][0]         \n",
            "__________________________________________________________________________________________________\n",
            "block2c_expand_conv (Conv2D)    (None, 65, 65, 144)  3456        block2b_add[0][0]                \n",
            "__________________________________________________________________________________________________\n",
            "block2c_expand_bn (BatchNormali (None, 65, 65, 144)  576         block2c_expand_conv[0][0]        \n",
            "__________________________________________________________________________________________________\n",
            "block2c_expand_activation (Acti (None, 65, 65, 144)  0           block2c_expand_bn[0][0]          \n",
            "__________________________________________________________________________________________________\n",
            "block2c_dwconv (DepthwiseConv2D (None, 65, 65, 144)  1296        block2c_expand_activation[0][0]  \n",
            "__________________________________________________________________________________________________\n",
            "block2c_bn (BatchNormalization) (None, 65, 65, 144)  576         block2c_dwconv[0][0]             \n",
            "__________________________________________________________________________________________________\n",
            "block2c_activation (Activation) (None, 65, 65, 144)  0           block2c_bn[0][0]                 \n",
            "__________________________________________________________________________________________________\n",
            "block2c_se_squeeze (GlobalAvera (None, 144)          0           block2c_activation[0][0]         \n",
            "__________________________________________________________________________________________________\n",
            "block2c_se_reshape (Reshape)    (None, 1, 1, 144)    0           block2c_se_squeeze[0][0]         \n",
            "__________________________________________________________________________________________________\n",
            "block2c_se_reduce (Conv2D)      (None, 1, 1, 6)      870         block2c_se_reshape[0][0]         \n",
            "__________________________________________________________________________________________________\n",
            "block2c_se_expand (Conv2D)      (None, 1, 1, 144)    1008        block2c_se_reduce[0][0]          \n",
            "__________________________________________________________________________________________________\n",
            "block2c_se_excite (Multiply)    (None, 65, 65, 144)  0           block2c_activation[0][0]         \n",
            "                                                                 block2c_se_expand[0][0]          \n",
            "__________________________________________________________________________________________________\n",
            "block2c_project_conv (Conv2D)   (None, 65, 65, 24)   3456        block2c_se_excite[0][0]          \n",
            "__________________________________________________________________________________________________\n",
            "block2c_project_bn (BatchNormal (None, 65, 65, 24)   96          block2c_project_conv[0][0]       \n",
            "__________________________________________________________________________________________________\n",
            "block2c_drop (Dropout)          (None, 65, 65, 24)   0           block2c_project_bn[0][0]         \n",
            "__________________________________________________________________________________________________\n",
            "block2c_add (Add)               (None, 65, 65, 24)   0           block2c_drop[0][0]               \n",
            "                                                                 block2b_add[0][0]                \n",
            "__________________________________________________________________________________________________\n",
            "block3a_expand_conv (Conv2D)    (None, 65, 65, 144)  3456        block2c_add[0][0]                \n",
            "__________________________________________________________________________________________________\n",
            "block3a_expand_bn (BatchNormali (None, 65, 65, 144)  576         block3a_expand_conv[0][0]        \n",
            "__________________________________________________________________________________________________\n",
            "block3a_expand_activation (Acti (None, 65, 65, 144)  0           block3a_expand_bn[0][0]          \n",
            "__________________________________________________________________________________________________\n",
            "block3a_dwconv_pad (ZeroPadding (None, 69, 69, 144)  0           block3a_expand_activation[0][0]  \n",
            "__________________________________________________________________________________________________\n",
            "block3a_dwconv (DepthwiseConv2D (None, 33, 33, 144)  3600        block3a_dwconv_pad[0][0]         \n",
            "__________________________________________________________________________________________________\n",
            "block3a_bn (BatchNormalization) (None, 33, 33, 144)  576         block3a_dwconv[0][0]             \n",
            "__________________________________________________________________________________________________\n",
            "block3a_activation (Activation) (None, 33, 33, 144)  0           block3a_bn[0][0]                 \n",
            "__________________________________________________________________________________________________\n",
            "block3a_se_squeeze (GlobalAvera (None, 144)          0           block3a_activation[0][0]         \n",
            "__________________________________________________________________________________________________\n",
            "block3a_se_reshape (Reshape)    (None, 1, 1, 144)    0           block3a_se_squeeze[0][0]         \n",
            "__________________________________________________________________________________________________\n",
            "block3a_se_reduce (Conv2D)      (None, 1, 1, 6)      870         block3a_se_reshape[0][0]         \n",
            "__________________________________________________________________________________________________\n",
            "block3a_se_expand (Conv2D)      (None, 1, 1, 144)    1008        block3a_se_reduce[0][0]          \n",
            "__________________________________________________________________________________________________\n",
            "block3a_se_excite (Multiply)    (None, 33, 33, 144)  0           block3a_activation[0][0]         \n",
            "                                                                 block3a_se_expand[0][0]          \n",
            "__________________________________________________________________________________________________\n",
            "block3a_project_conv (Conv2D)   (None, 33, 33, 48)   6912        block3a_se_excite[0][0]          \n",
            "__________________________________________________________________________________________________\n",
            "block3a_project_bn (BatchNormal (None, 33, 33, 48)   192         block3a_project_conv[0][0]       \n",
            "__________________________________________________________________________________________________\n",
            "block3b_expand_conv (Conv2D)    (None, 33, 33, 288)  13824       block3a_project_bn[0][0]         \n",
            "__________________________________________________________________________________________________\n",
            "block3b_expand_bn (BatchNormali (None, 33, 33, 288)  1152        block3b_expand_conv[0][0]        \n",
            "__________________________________________________________________________________________________\n",
            "block3b_expand_activation (Acti (None, 33, 33, 288)  0           block3b_expand_bn[0][0]          \n",
            "__________________________________________________________________________________________________\n",
            "block3b_dwconv (DepthwiseConv2D (None, 33, 33, 288)  7200        block3b_expand_activation[0][0]  \n",
            "__________________________________________________________________________________________________\n",
            "block3b_bn (BatchNormalization) (None, 33, 33, 288)  1152        block3b_dwconv[0][0]             \n",
            "__________________________________________________________________________________________________\n",
            "block3b_activation (Activation) (None, 33, 33, 288)  0           block3b_bn[0][0]                 \n",
            "__________________________________________________________________________________________________\n",
            "block3b_se_squeeze (GlobalAvera (None, 288)          0           block3b_activation[0][0]         \n",
            "__________________________________________________________________________________________________\n",
            "block3b_se_reshape (Reshape)    (None, 1, 1, 288)    0           block3b_se_squeeze[0][0]         \n",
            "__________________________________________________________________________________________________\n",
            "block3b_se_reduce (Conv2D)      (None, 1, 1, 12)     3468        block3b_se_reshape[0][0]         \n",
            "__________________________________________________________________________________________________\n",
            "block3b_se_expand (Conv2D)      (None, 1, 1, 288)    3744        block3b_se_reduce[0][0]          \n",
            "__________________________________________________________________________________________________\n",
            "block3b_se_excite (Multiply)    (None, 33, 33, 288)  0           block3b_activation[0][0]         \n",
            "                                                                 block3b_se_expand[0][0]          \n",
            "__________________________________________________________________________________________________\n",
            "block3b_project_conv (Conv2D)   (None, 33, 33, 48)   13824       block3b_se_excite[0][0]          \n",
            "__________________________________________________________________________________________________\n",
            "block3b_project_bn (BatchNormal (None, 33, 33, 48)   192         block3b_project_conv[0][0]       \n",
            "__________________________________________________________________________________________________\n",
            "block3b_drop (Dropout)          (None, 33, 33, 48)   0           block3b_project_bn[0][0]         \n",
            "__________________________________________________________________________________________________\n",
            "block3b_add (Add)               (None, 33, 33, 48)   0           block3b_drop[0][0]               \n",
            "                                                                 block3a_project_bn[0][0]         \n",
            "__________________________________________________________________________________________________\n",
            "block3c_expand_conv (Conv2D)    (None, 33, 33, 288)  13824       block3b_add[0][0]                \n",
            "__________________________________________________________________________________________________\n",
            "block3c_expand_bn (BatchNormali (None, 33, 33, 288)  1152        block3c_expand_conv[0][0]        \n",
            "__________________________________________________________________________________________________\n",
            "block3c_expand_activation (Acti (None, 33, 33, 288)  0           block3c_expand_bn[0][0]          \n",
            "__________________________________________________________________________________________________\n",
            "block3c_dwconv (DepthwiseConv2D (None, 33, 33, 288)  7200        block3c_expand_activation[0][0]  \n",
            "__________________________________________________________________________________________________\n",
            "block3c_bn (BatchNormalization) (None, 33, 33, 288)  1152        block3c_dwconv[0][0]             \n",
            "__________________________________________________________________________________________________\n",
            "block3c_activation (Activation) (None, 33, 33, 288)  0           block3c_bn[0][0]                 \n",
            "__________________________________________________________________________________________________\n",
            "block3c_se_squeeze (GlobalAvera (None, 288)          0           block3c_activation[0][0]         \n",
            "__________________________________________________________________________________________________\n",
            "block3c_se_reshape (Reshape)    (None, 1, 1, 288)    0           block3c_se_squeeze[0][0]         \n",
            "__________________________________________________________________________________________________\n",
            "block3c_se_reduce (Conv2D)      (None, 1, 1, 12)     3468        block3c_se_reshape[0][0]         \n",
            "__________________________________________________________________________________________________\n",
            "block3c_se_expand (Conv2D)      (None, 1, 1, 288)    3744        block3c_se_reduce[0][0]          \n",
            "__________________________________________________________________________________________________\n",
            "block3c_se_excite (Multiply)    (None, 33, 33, 288)  0           block3c_activation[0][0]         \n",
            "                                                                 block3c_se_expand[0][0]          \n",
            "__________________________________________________________________________________________________\n",
            "block3c_project_conv (Conv2D)   (None, 33, 33, 48)   13824       block3c_se_excite[0][0]          \n",
            "__________________________________________________________________________________________________\n",
            "block3c_project_bn (BatchNormal (None, 33, 33, 48)   192         block3c_project_conv[0][0]       \n",
            "__________________________________________________________________________________________________\n",
            "block3c_drop (Dropout)          (None, 33, 33, 48)   0           block3c_project_bn[0][0]         \n",
            "__________________________________________________________________________________________________\n",
            "block3c_add (Add)               (None, 33, 33, 48)   0           block3c_drop[0][0]               \n",
            "                                                                 block3b_add[0][0]                \n",
            "__________________________________________________________________________________________________\n",
            "block4a_expand_conv (Conv2D)    (None, 33, 33, 288)  13824       block3c_add[0][0]                \n",
            "__________________________________________________________________________________________________\n",
            "block4a_expand_bn (BatchNormali (None, 33, 33, 288)  1152        block4a_expand_conv[0][0]        \n",
            "__________________________________________________________________________________________________\n",
            "block4a_expand_activation (Acti (None, 33, 33, 288)  0           block4a_expand_bn[0][0]          \n",
            "__________________________________________________________________________________________________\n",
            "block4a_dwconv_pad (ZeroPadding (None, 35, 35, 288)  0           block4a_expand_activation[0][0]  \n",
            "__________________________________________________________________________________________________\n",
            "block4a_dwconv (DepthwiseConv2D (None, 17, 17, 288)  2592        block4a_dwconv_pad[0][0]         \n",
            "__________________________________________________________________________________________________\n",
            "block4a_bn (BatchNormalization) (None, 17, 17, 288)  1152        block4a_dwconv[0][0]             \n",
            "__________________________________________________________________________________________________\n",
            "block4a_activation (Activation) (None, 17, 17, 288)  0           block4a_bn[0][0]                 \n",
            "__________________________________________________________________________________________________\n",
            "block4a_se_squeeze (GlobalAvera (None, 288)          0           block4a_activation[0][0]         \n",
            "__________________________________________________________________________________________________\n",
            "block4a_se_reshape (Reshape)    (None, 1, 1, 288)    0           block4a_se_squeeze[0][0]         \n",
            "__________________________________________________________________________________________________\n",
            "block4a_se_reduce (Conv2D)      (None, 1, 1, 12)     3468        block4a_se_reshape[0][0]         \n",
            "__________________________________________________________________________________________________\n",
            "block4a_se_expand (Conv2D)      (None, 1, 1, 288)    3744        block4a_se_reduce[0][0]          \n",
            "__________________________________________________________________________________________________\n",
            "block4a_se_excite (Multiply)    (None, 17, 17, 288)  0           block4a_activation[0][0]         \n",
            "                                                                 block4a_se_expand[0][0]          \n",
            "__________________________________________________________________________________________________\n",
            "block4a_project_conv (Conv2D)   (None, 17, 17, 88)   25344       block4a_se_excite[0][0]          \n",
            "__________________________________________________________________________________________________\n",
            "block4a_project_bn (BatchNormal (None, 17, 17, 88)   352         block4a_project_conv[0][0]       \n",
            "__________________________________________________________________________________________________\n",
            "block4b_expand_conv (Conv2D)    (None, 17, 17, 528)  46464       block4a_project_bn[0][0]         \n",
            "__________________________________________________________________________________________________\n",
            "block4b_expand_bn (BatchNormali (None, 17, 17, 528)  2112        block4b_expand_conv[0][0]        \n",
            "__________________________________________________________________________________________________\n",
            "block4b_expand_activation (Acti (None, 17, 17, 528)  0           block4b_expand_bn[0][0]          \n",
            "__________________________________________________________________________________________________\n",
            "block4b_dwconv (DepthwiseConv2D (None, 17, 17, 528)  4752        block4b_expand_activation[0][0]  \n",
            "__________________________________________________________________________________________________\n",
            "block4b_bn (BatchNormalization) (None, 17, 17, 528)  2112        block4b_dwconv[0][0]             \n",
            "__________________________________________________________________________________________________\n",
            "block4b_activation (Activation) (None, 17, 17, 528)  0           block4b_bn[0][0]                 \n",
            "__________________________________________________________________________________________________\n",
            "block4b_se_squeeze (GlobalAvera (None, 528)          0           block4b_activation[0][0]         \n",
            "__________________________________________________________________________________________________\n",
            "block4b_se_reshape (Reshape)    (None, 1, 1, 528)    0           block4b_se_squeeze[0][0]         \n",
            "__________________________________________________________________________________________________\n",
            "block4b_se_reduce (Conv2D)      (None, 1, 1, 22)     11638       block4b_se_reshape[0][0]         \n",
            "__________________________________________________________________________________________________\n",
            "block4b_se_expand (Conv2D)      (None, 1, 1, 528)    12144       block4b_se_reduce[0][0]          \n",
            "__________________________________________________________________________________________________\n",
            "block4b_se_excite (Multiply)    (None, 17, 17, 528)  0           block4b_activation[0][0]         \n",
            "                                                                 block4b_se_expand[0][0]          \n",
            "__________________________________________________________________________________________________\n",
            "block4b_project_conv (Conv2D)   (None, 17, 17, 88)   46464       block4b_se_excite[0][0]          \n",
            "__________________________________________________________________________________________________\n",
            "block4b_project_bn (BatchNormal (None, 17, 17, 88)   352         block4b_project_conv[0][0]       \n",
            "__________________________________________________________________________________________________\n",
            "block4b_drop (Dropout)          (None, 17, 17, 88)   0           block4b_project_bn[0][0]         \n",
            "__________________________________________________________________________________________________\n",
            "block4b_add (Add)               (None, 17, 17, 88)   0           block4b_drop[0][0]               \n",
            "                                                                 block4a_project_bn[0][0]         \n",
            "__________________________________________________________________________________________________\n",
            "block4c_expand_conv (Conv2D)    (None, 17, 17, 528)  46464       block4b_add[0][0]                \n",
            "__________________________________________________________________________________________________\n",
            "block4c_expand_bn (BatchNormali (None, 17, 17, 528)  2112        block4c_expand_conv[0][0]        \n",
            "__________________________________________________________________________________________________\n",
            "block4c_expand_activation (Acti (None, 17, 17, 528)  0           block4c_expand_bn[0][0]          \n",
            "__________________________________________________________________________________________________\n",
            "block4c_dwconv (DepthwiseConv2D (None, 17, 17, 528)  4752        block4c_expand_activation[0][0]  \n",
            "__________________________________________________________________________________________________\n",
            "block4c_bn (BatchNormalization) (None, 17, 17, 528)  2112        block4c_dwconv[0][0]             \n",
            "__________________________________________________________________________________________________\n",
            "block4c_activation (Activation) (None, 17, 17, 528)  0           block4c_bn[0][0]                 \n",
            "__________________________________________________________________________________________________\n",
            "block4c_se_squeeze (GlobalAvera (None, 528)          0           block4c_activation[0][0]         \n",
            "__________________________________________________________________________________________________\n",
            "block4c_se_reshape (Reshape)    (None, 1, 1, 528)    0           block4c_se_squeeze[0][0]         \n",
            "__________________________________________________________________________________________________\n",
            "block4c_se_reduce (Conv2D)      (None, 1, 1, 22)     11638       block4c_se_reshape[0][0]         \n",
            "__________________________________________________________________________________________________\n",
            "block4c_se_expand (Conv2D)      (None, 1, 1, 528)    12144       block4c_se_reduce[0][0]          \n",
            "__________________________________________________________________________________________________\n",
            "block4c_se_excite (Multiply)    (None, 17, 17, 528)  0           block4c_activation[0][0]         \n",
            "                                                                 block4c_se_expand[0][0]          \n",
            "__________________________________________________________________________________________________\n",
            "block4c_project_conv (Conv2D)   (None, 17, 17, 88)   46464       block4c_se_excite[0][0]          \n",
            "__________________________________________________________________________________________________\n",
            "block4c_project_bn (BatchNormal (None, 17, 17, 88)   352         block4c_project_conv[0][0]       \n",
            "__________________________________________________________________________________________________\n",
            "block4c_drop (Dropout)          (None, 17, 17, 88)   0           block4c_project_bn[0][0]         \n",
            "__________________________________________________________________________________________________\n",
            "block4c_add (Add)               (None, 17, 17, 88)   0           block4c_drop[0][0]               \n",
            "                                                                 block4b_add[0][0]                \n",
            "__________________________________________________________________________________________________\n",
            "block4d_expand_conv (Conv2D)    (None, 17, 17, 528)  46464       block4c_add[0][0]                \n",
            "__________________________________________________________________________________________________\n",
            "block4d_expand_bn (BatchNormali (None, 17, 17, 528)  2112        block4d_expand_conv[0][0]        \n",
            "__________________________________________________________________________________________________\n",
            "block4d_expand_activation (Acti (None, 17, 17, 528)  0           block4d_expand_bn[0][0]          \n",
            "__________________________________________________________________________________________________\n",
            "block4d_dwconv (DepthwiseConv2D (None, 17, 17, 528)  4752        block4d_expand_activation[0][0]  \n",
            "__________________________________________________________________________________________________\n",
            "block4d_bn (BatchNormalization) (None, 17, 17, 528)  2112        block4d_dwconv[0][0]             \n",
            "__________________________________________________________________________________________________\n",
            "block4d_activation (Activation) (None, 17, 17, 528)  0           block4d_bn[0][0]                 \n",
            "__________________________________________________________________________________________________\n",
            "block4d_se_squeeze (GlobalAvera (None, 528)          0           block4d_activation[0][0]         \n",
            "__________________________________________________________________________________________________\n",
            "block4d_se_reshape (Reshape)    (None, 1, 1, 528)    0           block4d_se_squeeze[0][0]         \n",
            "__________________________________________________________________________________________________\n",
            "block4d_se_reduce (Conv2D)      (None, 1, 1, 22)     11638       block4d_se_reshape[0][0]         \n",
            "__________________________________________________________________________________________________\n",
            "block4d_se_expand (Conv2D)      (None, 1, 1, 528)    12144       block4d_se_reduce[0][0]          \n",
            "__________________________________________________________________________________________________\n",
            "block4d_se_excite (Multiply)    (None, 17, 17, 528)  0           block4d_activation[0][0]         \n",
            "                                                                 block4d_se_expand[0][0]          \n",
            "__________________________________________________________________________________________________\n",
            "block4d_project_conv (Conv2D)   (None, 17, 17, 88)   46464       block4d_se_excite[0][0]          \n",
            "__________________________________________________________________________________________________\n",
            "block4d_project_bn (BatchNormal (None, 17, 17, 88)   352         block4d_project_conv[0][0]       \n",
            "__________________________________________________________________________________________________\n",
            "block4d_drop (Dropout)          (None, 17, 17, 88)   0           block4d_project_bn[0][0]         \n",
            "__________________________________________________________________________________________________\n",
            "block4d_add (Add)               (None, 17, 17, 88)   0           block4d_drop[0][0]               \n",
            "                                                                 block4c_add[0][0]                \n",
            "__________________________________________________________________________________________________\n",
            "block5a_expand_conv (Conv2D)    (None, 17, 17, 528)  46464       block4d_add[0][0]                \n",
            "__________________________________________________________________________________________________\n",
            "block5a_expand_bn (BatchNormali (None, 17, 17, 528)  2112        block5a_expand_conv[0][0]        \n",
            "__________________________________________________________________________________________________\n",
            "block5a_expand_activation (Acti (None, 17, 17, 528)  0           block5a_expand_bn[0][0]          \n",
            "__________________________________________________________________________________________________\n",
            "block5a_dwconv (DepthwiseConv2D (None, 17, 17, 528)  13200       block5a_expand_activation[0][0]  \n",
            "__________________________________________________________________________________________________\n",
            "block5a_bn (BatchNormalization) (None, 17, 17, 528)  2112        block5a_dwconv[0][0]             \n",
            "__________________________________________________________________________________________________\n",
            "block5a_activation (Activation) (None, 17, 17, 528)  0           block5a_bn[0][0]                 \n",
            "__________________________________________________________________________________________________\n",
            "block5a_se_squeeze (GlobalAvera (None, 528)          0           block5a_activation[0][0]         \n",
            "__________________________________________________________________________________________________\n",
            "block5a_se_reshape (Reshape)    (None, 1, 1, 528)    0           block5a_se_squeeze[0][0]         \n",
            "__________________________________________________________________________________________________\n",
            "block5a_se_reduce (Conv2D)      (None, 1, 1, 22)     11638       block5a_se_reshape[0][0]         \n",
            "__________________________________________________________________________________________________\n",
            "block5a_se_expand (Conv2D)      (None, 1, 1, 528)    12144       block5a_se_reduce[0][0]          \n",
            "__________________________________________________________________________________________________\n",
            "block5a_se_excite (Multiply)    (None, 17, 17, 528)  0           block5a_activation[0][0]         \n",
            "                                                                 block5a_se_expand[0][0]          \n",
            "__________________________________________________________________________________________________\n",
            "block5a_project_conv (Conv2D)   (None, 17, 17, 120)  63360       block5a_se_excite[0][0]          \n",
            "__________________________________________________________________________________________________\n",
            "block5a_project_bn (BatchNormal (None, 17, 17, 120)  480         block5a_project_conv[0][0]       \n",
            "__________________________________________________________________________________________________\n",
            "block5b_expand_conv (Conv2D)    (None, 17, 17, 720)  86400       block5a_project_bn[0][0]         \n",
            "__________________________________________________________________________________________________\n",
            "block5b_expand_bn (BatchNormali (None, 17, 17, 720)  2880        block5b_expand_conv[0][0]        \n",
            "__________________________________________________________________________________________________\n",
            "block5b_expand_activation (Acti (None, 17, 17, 720)  0           block5b_expand_bn[0][0]          \n",
            "__________________________________________________________________________________________________\n",
            "block5b_dwconv (DepthwiseConv2D (None, 17, 17, 720)  18000       block5b_expand_activation[0][0]  \n",
            "__________________________________________________________________________________________________\n",
            "block5b_bn (BatchNormalization) (None, 17, 17, 720)  2880        block5b_dwconv[0][0]             \n",
            "__________________________________________________________________________________________________\n",
            "block5b_activation (Activation) (None, 17, 17, 720)  0           block5b_bn[0][0]                 \n",
            "__________________________________________________________________________________________________\n",
            "block5b_se_squeeze (GlobalAvera (None, 720)          0           block5b_activation[0][0]         \n",
            "__________________________________________________________________________________________________\n",
            "block5b_se_reshape (Reshape)    (None, 1, 1, 720)    0           block5b_se_squeeze[0][0]         \n",
            "__________________________________________________________________________________________________\n",
            "block5b_se_reduce (Conv2D)      (None, 1, 1, 30)     21630       block5b_se_reshape[0][0]         \n",
            "__________________________________________________________________________________________________\n",
            "block5b_se_expand (Conv2D)      (None, 1, 1, 720)    22320       block5b_se_reduce[0][0]          \n",
            "__________________________________________________________________________________________________\n",
            "block5b_se_excite (Multiply)    (None, 17, 17, 720)  0           block5b_activation[0][0]         \n",
            "                                                                 block5b_se_expand[0][0]          \n",
            "__________________________________________________________________________________________________\n",
            "block5b_project_conv (Conv2D)   (None, 17, 17, 120)  86400       block5b_se_excite[0][0]          \n",
            "__________________________________________________________________________________________________\n",
            "block5b_project_bn (BatchNormal (None, 17, 17, 120)  480         block5b_project_conv[0][0]       \n",
            "__________________________________________________________________________________________________\n",
            "block5b_drop (Dropout)          (None, 17, 17, 120)  0           block5b_project_bn[0][0]         \n",
            "__________________________________________________________________________________________________\n",
            "block5b_add (Add)               (None, 17, 17, 120)  0           block5b_drop[0][0]               \n",
            "                                                                 block5a_project_bn[0][0]         \n",
            "__________________________________________________________________________________________________\n",
            "block5c_expand_conv (Conv2D)    (None, 17, 17, 720)  86400       block5b_add[0][0]                \n",
            "__________________________________________________________________________________________________\n",
            "block5c_expand_bn (BatchNormali (None, 17, 17, 720)  2880        block5c_expand_conv[0][0]        \n",
            "__________________________________________________________________________________________________\n",
            "block5c_expand_activation (Acti (None, 17, 17, 720)  0           block5c_expand_bn[0][0]          \n",
            "__________________________________________________________________________________________________\n",
            "block5c_dwconv (DepthwiseConv2D (None, 17, 17, 720)  18000       block5c_expand_activation[0][0]  \n",
            "__________________________________________________________________________________________________\n",
            "block5c_bn (BatchNormalization) (None, 17, 17, 720)  2880        block5c_dwconv[0][0]             \n",
            "__________________________________________________________________________________________________\n",
            "block5c_activation (Activation) (None, 17, 17, 720)  0           block5c_bn[0][0]                 \n",
            "__________________________________________________________________________________________________\n",
            "block5c_se_squeeze (GlobalAvera (None, 720)          0           block5c_activation[0][0]         \n",
            "__________________________________________________________________________________________________\n",
            "block5c_se_reshape (Reshape)    (None, 1, 1, 720)    0           block5c_se_squeeze[0][0]         \n",
            "__________________________________________________________________________________________________\n",
            "block5c_se_reduce (Conv2D)      (None, 1, 1, 30)     21630       block5c_se_reshape[0][0]         \n",
            "__________________________________________________________________________________________________\n",
            "block5c_se_expand (Conv2D)      (None, 1, 1, 720)    22320       block5c_se_reduce[0][0]          \n",
            "__________________________________________________________________________________________________\n",
            "block5c_se_excite (Multiply)    (None, 17, 17, 720)  0           block5c_activation[0][0]         \n",
            "                                                                 block5c_se_expand[0][0]          \n",
            "__________________________________________________________________________________________________\n",
            "block5c_project_conv (Conv2D)   (None, 17, 17, 120)  86400       block5c_se_excite[0][0]          \n",
            "__________________________________________________________________________________________________\n",
            "block5c_project_bn (BatchNormal (None, 17, 17, 120)  480         block5c_project_conv[0][0]       \n",
            "__________________________________________________________________________________________________\n",
            "block5c_drop (Dropout)          (None, 17, 17, 120)  0           block5c_project_bn[0][0]         \n",
            "__________________________________________________________________________________________________\n",
            "block5c_add (Add)               (None, 17, 17, 120)  0           block5c_drop[0][0]               \n",
            "                                                                 block5b_add[0][0]                \n",
            "__________________________________________________________________________________________________\n",
            "block5d_expand_conv (Conv2D)    (None, 17, 17, 720)  86400       block5c_add[0][0]                \n",
            "__________________________________________________________________________________________________\n",
            "block5d_expand_bn (BatchNormali (None, 17, 17, 720)  2880        block5d_expand_conv[0][0]        \n",
            "__________________________________________________________________________________________________\n",
            "block5d_expand_activation (Acti (None, 17, 17, 720)  0           block5d_expand_bn[0][0]          \n",
            "__________________________________________________________________________________________________\n",
            "block5d_dwconv (DepthwiseConv2D (None, 17, 17, 720)  18000       block5d_expand_activation[0][0]  \n",
            "__________________________________________________________________________________________________\n",
            "block5d_bn (BatchNormalization) (None, 17, 17, 720)  2880        block5d_dwconv[0][0]             \n",
            "__________________________________________________________________________________________________\n",
            "block5d_activation (Activation) (None, 17, 17, 720)  0           block5d_bn[0][0]                 \n",
            "__________________________________________________________________________________________________\n",
            "block5d_se_squeeze (GlobalAvera (None, 720)          0           block5d_activation[0][0]         \n",
            "__________________________________________________________________________________________________\n",
            "block5d_se_reshape (Reshape)    (None, 1, 1, 720)    0           block5d_se_squeeze[0][0]         \n",
            "__________________________________________________________________________________________________\n",
            "block5d_se_reduce (Conv2D)      (None, 1, 1, 30)     21630       block5d_se_reshape[0][0]         \n",
            "__________________________________________________________________________________________________\n",
            "block5d_se_expand (Conv2D)      (None, 1, 1, 720)    22320       block5d_se_reduce[0][0]          \n",
            "__________________________________________________________________________________________________\n",
            "block5d_se_excite (Multiply)    (None, 17, 17, 720)  0           block5d_activation[0][0]         \n",
            "                                                                 block5d_se_expand[0][0]          \n",
            "__________________________________________________________________________________________________\n",
            "block5d_project_conv (Conv2D)   (None, 17, 17, 120)  86400       block5d_se_excite[0][0]          \n",
            "__________________________________________________________________________________________________\n",
            "block5d_project_bn (BatchNormal (None, 17, 17, 120)  480         block5d_project_conv[0][0]       \n",
            "__________________________________________________________________________________________________\n",
            "block5d_drop (Dropout)          (None, 17, 17, 120)  0           block5d_project_bn[0][0]         \n",
            "__________________________________________________________________________________________________\n",
            "block5d_add (Add)               (None, 17, 17, 120)  0           block5d_drop[0][0]               \n",
            "                                                                 block5c_add[0][0]                \n",
            "__________________________________________________________________________________________________\n",
            "block6a_expand_conv (Conv2D)    (None, 17, 17, 720)  86400       block5d_add[0][0]                \n",
            "__________________________________________________________________________________________________\n",
            "block6a_expand_bn (BatchNormali (None, 17, 17, 720)  2880        block6a_expand_conv[0][0]        \n",
            "__________________________________________________________________________________________________\n",
            "block6a_expand_activation (Acti (None, 17, 17, 720)  0           block6a_expand_bn[0][0]          \n",
            "__________________________________________________________________________________________________\n",
            "block6a_dwconv_pad (ZeroPadding (None, 21, 21, 720)  0           block6a_expand_activation[0][0]  \n",
            "__________________________________________________________________________________________________\n",
            "block6a_dwconv (DepthwiseConv2D (None, 9, 9, 720)    18000       block6a_dwconv_pad[0][0]         \n",
            "__________________________________________________________________________________________________\n",
            "block6a_bn (BatchNormalization) (None, 9, 9, 720)    2880        block6a_dwconv[0][0]             \n",
            "__________________________________________________________________________________________________\n",
            "block6a_activation (Activation) (None, 9, 9, 720)    0           block6a_bn[0][0]                 \n",
            "__________________________________________________________________________________________________\n",
            "block6a_se_squeeze (GlobalAvera (None, 720)          0           block6a_activation[0][0]         \n",
            "__________________________________________________________________________________________________\n",
            "block6a_se_reshape (Reshape)    (None, 1, 1, 720)    0           block6a_se_squeeze[0][0]         \n",
            "__________________________________________________________________________________________________\n",
            "block6a_se_reduce (Conv2D)      (None, 1, 1, 30)     21630       block6a_se_reshape[0][0]         \n",
            "__________________________________________________________________________________________________\n",
            "block6a_se_expand (Conv2D)      (None, 1, 1, 720)    22320       block6a_se_reduce[0][0]          \n",
            "__________________________________________________________________________________________________\n",
            "block6a_se_excite (Multiply)    (None, 9, 9, 720)    0           block6a_activation[0][0]         \n",
            "                                                                 block6a_se_expand[0][0]          \n",
            "__________________________________________________________________________________________________\n",
            "block6a_project_conv (Conv2D)   (None, 9, 9, 208)    149760      block6a_se_excite[0][0]          \n",
            "__________________________________________________________________________________________________\n",
            "block6a_project_bn (BatchNormal (None, 9, 9, 208)    832         block6a_project_conv[0][0]       \n",
            "__________________________________________________________________________________________________\n",
            "block6b_expand_conv (Conv2D)    (None, 9, 9, 1248)   259584      block6a_project_bn[0][0]         \n",
            "__________________________________________________________________________________________________\n",
            "block6b_expand_bn (BatchNormali (None, 9, 9, 1248)   4992        block6b_expand_conv[0][0]        \n",
            "__________________________________________________________________________________________________\n",
            "block6b_expand_activation (Acti (None, 9, 9, 1248)   0           block6b_expand_bn[0][0]          \n",
            "__________________________________________________________________________________________________\n",
            "block6b_dwconv (DepthwiseConv2D (None, 9, 9, 1248)   31200       block6b_expand_activation[0][0]  \n",
            "__________________________________________________________________________________________________\n",
            "block6b_bn (BatchNormalization) (None, 9, 9, 1248)   4992        block6b_dwconv[0][0]             \n",
            "__________________________________________________________________________________________________\n",
            "block6b_activation (Activation) (None, 9, 9, 1248)   0           block6b_bn[0][0]                 \n",
            "__________________________________________________________________________________________________\n",
            "block6b_se_squeeze (GlobalAvera (None, 1248)         0           block6b_activation[0][0]         \n",
            "__________________________________________________________________________________________________\n",
            "block6b_se_reshape (Reshape)    (None, 1, 1, 1248)   0           block6b_se_squeeze[0][0]         \n",
            "__________________________________________________________________________________________________\n",
            "block6b_se_reduce (Conv2D)      (None, 1, 1, 52)     64948       block6b_se_reshape[0][0]         \n",
            "__________________________________________________________________________________________________\n",
            "block6b_se_expand (Conv2D)      (None, 1, 1, 1248)   66144       block6b_se_reduce[0][0]          \n",
            "__________________________________________________________________________________________________\n",
            "block6b_se_excite (Multiply)    (None, 9, 9, 1248)   0           block6b_activation[0][0]         \n",
            "                                                                 block6b_se_expand[0][0]          \n",
            "__________________________________________________________________________________________________\n",
            "block6b_project_conv (Conv2D)   (None, 9, 9, 208)    259584      block6b_se_excite[0][0]          \n",
            "__________________________________________________________________________________________________\n",
            "block6b_project_bn (BatchNormal (None, 9, 9, 208)    832         block6b_project_conv[0][0]       \n",
            "__________________________________________________________________________________________________\n",
            "block6b_drop (Dropout)          (None, 9, 9, 208)    0           block6b_project_bn[0][0]         \n",
            "__________________________________________________________________________________________________\n",
            "block6b_add (Add)               (None, 9, 9, 208)    0           block6b_drop[0][0]               \n",
            "                                                                 block6a_project_bn[0][0]         \n",
            "__________________________________________________________________________________________________\n",
            "block6c_expand_conv (Conv2D)    (None, 9, 9, 1248)   259584      block6b_add[0][0]                \n",
            "__________________________________________________________________________________________________\n",
            "block6c_expand_bn (BatchNormali (None, 9, 9, 1248)   4992        block6c_expand_conv[0][0]        \n",
            "__________________________________________________________________________________________________\n",
            "block6c_expand_activation (Acti (None, 9, 9, 1248)   0           block6c_expand_bn[0][0]          \n",
            "__________________________________________________________________________________________________\n",
            "block6c_dwconv (DepthwiseConv2D (None, 9, 9, 1248)   31200       block6c_expand_activation[0][0]  \n",
            "__________________________________________________________________________________________________\n",
            "block6c_bn (BatchNormalization) (None, 9, 9, 1248)   4992        block6c_dwconv[0][0]             \n",
            "__________________________________________________________________________________________________\n",
            "block6c_activation (Activation) (None, 9, 9, 1248)   0           block6c_bn[0][0]                 \n",
            "__________________________________________________________________________________________________\n",
            "block6c_se_squeeze (GlobalAvera (None, 1248)         0           block6c_activation[0][0]         \n",
            "__________________________________________________________________________________________________\n",
            "block6c_se_reshape (Reshape)    (None, 1, 1, 1248)   0           block6c_se_squeeze[0][0]         \n",
            "__________________________________________________________________________________________________\n",
            "block6c_se_reduce (Conv2D)      (None, 1, 1, 52)     64948       block6c_se_reshape[0][0]         \n",
            "__________________________________________________________________________________________________\n",
            "block6c_se_expand (Conv2D)      (None, 1, 1, 1248)   66144       block6c_se_reduce[0][0]          \n",
            "__________________________________________________________________________________________________\n",
            "block6c_se_excite (Multiply)    (None, 9, 9, 1248)   0           block6c_activation[0][0]         \n",
            "                                                                 block6c_se_expand[0][0]          \n",
            "__________________________________________________________________________________________________\n",
            "block6c_project_conv (Conv2D)   (None, 9, 9, 208)    259584      block6c_se_excite[0][0]          \n",
            "__________________________________________________________________________________________________\n",
            "block6c_project_bn (BatchNormal (None, 9, 9, 208)    832         block6c_project_conv[0][0]       \n",
            "__________________________________________________________________________________________________\n",
            "block6c_drop (Dropout)          (None, 9, 9, 208)    0           block6c_project_bn[0][0]         \n",
            "__________________________________________________________________________________________________\n",
            "block6c_add (Add)               (None, 9, 9, 208)    0           block6c_drop[0][0]               \n",
            "                                                                 block6b_add[0][0]                \n",
            "__________________________________________________________________________________________________\n",
            "block6d_expand_conv (Conv2D)    (None, 9, 9, 1248)   259584      block6c_add[0][0]                \n",
            "__________________________________________________________________________________________________\n",
            "block6d_expand_bn (BatchNormali (None, 9, 9, 1248)   4992        block6d_expand_conv[0][0]        \n",
            "__________________________________________________________________________________________________\n",
            "block6d_expand_activation (Acti (None, 9, 9, 1248)   0           block6d_expand_bn[0][0]          \n",
            "__________________________________________________________________________________________________\n",
            "block6d_dwconv (DepthwiseConv2D (None, 9, 9, 1248)   31200       block6d_expand_activation[0][0]  \n",
            "__________________________________________________________________________________________________\n",
            "block6d_bn (BatchNormalization) (None, 9, 9, 1248)   4992        block6d_dwconv[0][0]             \n",
            "__________________________________________________________________________________________________\n",
            "block6d_activation (Activation) (None, 9, 9, 1248)   0           block6d_bn[0][0]                 \n",
            "__________________________________________________________________________________________________\n",
            "block6d_se_squeeze (GlobalAvera (None, 1248)         0           block6d_activation[0][0]         \n",
            "__________________________________________________________________________________________________\n",
            "block6d_se_reshape (Reshape)    (None, 1, 1, 1248)   0           block6d_se_squeeze[0][0]         \n",
            "__________________________________________________________________________________________________\n",
            "block6d_se_reduce (Conv2D)      (None, 1, 1, 52)     64948       block6d_se_reshape[0][0]         \n",
            "__________________________________________________________________________________________________\n",
            "block6d_se_expand (Conv2D)      (None, 1, 1, 1248)   66144       block6d_se_reduce[0][0]          \n",
            "__________________________________________________________________________________________________\n",
            "block6d_se_excite (Multiply)    (None, 9, 9, 1248)   0           block6d_activation[0][0]         \n",
            "                                                                 block6d_se_expand[0][0]          \n",
            "__________________________________________________________________________________________________\n",
            "block6d_project_conv (Conv2D)   (None, 9, 9, 208)    259584      block6d_se_excite[0][0]          \n",
            "__________________________________________________________________________________________________\n",
            "block6d_project_bn (BatchNormal (None, 9, 9, 208)    832         block6d_project_conv[0][0]       \n",
            "__________________________________________________________________________________________________\n",
            "block6d_drop (Dropout)          (None, 9, 9, 208)    0           block6d_project_bn[0][0]         \n",
            "__________________________________________________________________________________________________\n",
            "block6d_add (Add)               (None, 9, 9, 208)    0           block6d_drop[0][0]               \n",
            "                                                                 block6c_add[0][0]                \n",
            "__________________________________________________________________________________________________\n",
            "block6e_expand_conv (Conv2D)    (None, 9, 9, 1248)   259584      block6d_add[0][0]                \n",
            "__________________________________________________________________________________________________\n",
            "block6e_expand_bn (BatchNormali (None, 9, 9, 1248)   4992        block6e_expand_conv[0][0]        \n",
            "__________________________________________________________________________________________________\n",
            "block6e_expand_activation (Acti (None, 9, 9, 1248)   0           block6e_expand_bn[0][0]          \n",
            "__________________________________________________________________________________________________\n",
            "block6e_dwconv (DepthwiseConv2D (None, 9, 9, 1248)   31200       block6e_expand_activation[0][0]  \n",
            "__________________________________________________________________________________________________\n",
            "block6e_bn (BatchNormalization) (None, 9, 9, 1248)   4992        block6e_dwconv[0][0]             \n",
            "__________________________________________________________________________________________________\n",
            "block6e_activation (Activation) (None, 9, 9, 1248)   0           block6e_bn[0][0]                 \n",
            "__________________________________________________________________________________________________\n",
            "block6e_se_squeeze (GlobalAvera (None, 1248)         0           block6e_activation[0][0]         \n",
            "__________________________________________________________________________________________________\n",
            "block6e_se_reshape (Reshape)    (None, 1, 1, 1248)   0           block6e_se_squeeze[0][0]         \n",
            "__________________________________________________________________________________________________\n",
            "block6e_se_reduce (Conv2D)      (None, 1, 1, 52)     64948       block6e_se_reshape[0][0]         \n",
            "__________________________________________________________________________________________________\n",
            "block6e_se_expand (Conv2D)      (None, 1, 1, 1248)   66144       block6e_se_reduce[0][0]          \n",
            "__________________________________________________________________________________________________\n",
            "block6e_se_excite (Multiply)    (None, 9, 9, 1248)   0           block6e_activation[0][0]         \n",
            "                                                                 block6e_se_expand[0][0]          \n",
            "__________________________________________________________________________________________________\n",
            "block6e_project_conv (Conv2D)   (None, 9, 9, 208)    259584      block6e_se_excite[0][0]          \n",
            "__________________________________________________________________________________________________\n",
            "block6e_project_bn (BatchNormal (None, 9, 9, 208)    832         block6e_project_conv[0][0]       \n",
            "__________________________________________________________________________________________________\n",
            "block6e_drop (Dropout)          (None, 9, 9, 208)    0           block6e_project_bn[0][0]         \n",
            "__________________________________________________________________________________________________\n",
            "block6e_add (Add)               (None, 9, 9, 208)    0           block6e_drop[0][0]               \n",
            "                                                                 block6d_add[0][0]                \n",
            "__________________________________________________________________________________________________\n",
            "block7a_expand_conv (Conv2D)    (None, 9, 9, 1248)   259584      block6e_add[0][0]                \n",
            "__________________________________________________________________________________________________\n",
            "block7a_expand_bn (BatchNormali (None, 9, 9, 1248)   4992        block7a_expand_conv[0][0]        \n",
            "__________________________________________________________________________________________________\n",
            "block7a_expand_activation (Acti (None, 9, 9, 1248)   0           block7a_expand_bn[0][0]          \n",
            "__________________________________________________________________________________________________\n",
            "block7a_dwconv (DepthwiseConv2D (None, 9, 9, 1248)   11232       block7a_expand_activation[0][0]  \n",
            "__________________________________________________________________________________________________\n",
            "block7a_bn (BatchNormalization) (None, 9, 9, 1248)   4992        block7a_dwconv[0][0]             \n",
            "__________________________________________________________________________________________________\n",
            "block7a_activation (Activation) (None, 9, 9, 1248)   0           block7a_bn[0][0]                 \n",
            "__________________________________________________________________________________________________\n",
            "block7a_se_squeeze (GlobalAvera (None, 1248)         0           block7a_activation[0][0]         \n",
            "__________________________________________________________________________________________________\n",
            "block7a_se_reshape (Reshape)    (None, 1, 1, 1248)   0           block7a_se_squeeze[0][0]         \n",
            "__________________________________________________________________________________________________\n",
            "block7a_se_reduce (Conv2D)      (None, 1, 1, 52)     64948       block7a_se_reshape[0][0]         \n",
            "__________________________________________________________________________________________________\n",
            "block7a_se_expand (Conv2D)      (None, 1, 1, 1248)   66144       block7a_se_reduce[0][0]          \n",
            "__________________________________________________________________________________________________\n",
            "block7a_se_excite (Multiply)    (None, 9, 9, 1248)   0           block7a_activation[0][0]         \n",
            "                                                                 block7a_se_expand[0][0]          \n",
            "__________________________________________________________________________________________________\n",
            "block7a_project_conv (Conv2D)   (None, 9, 9, 352)    439296      block7a_se_excite[0][0]          \n",
            "__________________________________________________________________________________________________\n",
            "block7a_project_bn (BatchNormal (None, 9, 9, 352)    1408        block7a_project_conv[0][0]       \n",
            "__________________________________________________________________________________________________\n",
            "block7b_expand_conv (Conv2D)    (None, 9, 9, 2112)   743424      block7a_project_bn[0][0]         \n",
            "__________________________________________________________________________________________________\n",
            "block7b_expand_bn (BatchNormali (None, 9, 9, 2112)   8448        block7b_expand_conv[0][0]        \n",
            "__________________________________________________________________________________________________\n",
            "block7b_expand_activation (Acti (None, 9, 9, 2112)   0           block7b_expand_bn[0][0]          \n",
            "__________________________________________________________________________________________________\n",
            "block7b_dwconv (DepthwiseConv2D (None, 9, 9, 2112)   19008       block7b_expand_activation[0][0]  \n",
            "__________________________________________________________________________________________________\n",
            "block7b_bn (BatchNormalization) (None, 9, 9, 2112)   8448        block7b_dwconv[0][0]             \n",
            "__________________________________________________________________________________________________\n",
            "block7b_activation (Activation) (None, 9, 9, 2112)   0           block7b_bn[0][0]                 \n",
            "__________________________________________________________________________________________________\n",
            "block7b_se_squeeze (GlobalAvera (None, 2112)         0           block7b_activation[0][0]         \n",
            "__________________________________________________________________________________________________\n",
            "block7b_se_reshape (Reshape)    (None, 1, 1, 2112)   0           block7b_se_squeeze[0][0]         \n",
            "__________________________________________________________________________________________________\n",
            "block7b_se_reduce (Conv2D)      (None, 1, 1, 88)     185944      block7b_se_reshape[0][0]         \n",
            "__________________________________________________________________________________________________\n",
            "block7b_se_expand (Conv2D)      (None, 1, 1, 2112)   187968      block7b_se_reduce[0][0]          \n",
            "__________________________________________________________________________________________________\n",
            "block7b_se_excite (Multiply)    (None, 9, 9, 2112)   0           block7b_activation[0][0]         \n",
            "                                                                 block7b_se_expand[0][0]          \n",
            "__________________________________________________________________________________________________\n",
            "block7b_project_conv (Conv2D)   (None, 9, 9, 352)    743424      block7b_se_excite[0][0]          \n",
            "__________________________________________________________________________________________________\n",
            "block7b_project_bn (BatchNormal (None, 9, 9, 352)    1408        block7b_project_conv[0][0]       \n",
            "__________________________________________________________________________________________________\n",
            "block7b_drop (Dropout)          (None, 9, 9, 352)    0           block7b_project_bn[0][0]         \n",
            "__________________________________________________________________________________________________\n",
            "block7b_add (Add)               (None, 9, 9, 352)    0           block7b_drop[0][0]               \n",
            "                                                                 block7a_project_bn[0][0]         \n",
            "__________________________________________________________________________________________________\n",
            "top_conv (Conv2D)               (None, 9, 9, 1408)   495616      block7b_add[0][0]                \n",
            "__________________________________________________________________________________________________\n",
            "top_bn (BatchNormalization)     (None, 9, 9, 1408)   5632        top_conv[0][0]                   \n",
            "__________________________________________________________________________________________________\n",
            "top_activation (Activation)     (None, 9, 9, 1408)   0           top_bn[0][0]                     \n",
            "__________________________________________________________________________________________________\n",
            "global_average_pooling2d_2 (Glo (None, 1408)         0           top_activation[0][0]             \n",
            "__________________________________________________________________________________________________\n",
            "dense_6 (Dense)                 (None, 512)          721408      global_average_pooling2d_2[0][0] \n",
            "__________________________________________________________________________________________________\n",
            "dropout_4 (Dropout)             (None, 512)          0           dense_6[0][0]                    \n",
            "__________________________________________________________________________________________________\n",
            "dense_7 (Dense)                 (None, 512)          262656      dropout_4[0][0]                  \n",
            "__________________________________________________________________________________________________\n",
            "dropout_5 (Dropout)             (None, 512)          0           dense_7[0][0]                    \n",
            "__________________________________________________________________________________________________\n",
            "dense_8 (Dense)                 (None, 2)            1026        dropout_5[0][0]                  \n",
            "==================================================================================================\n",
            "Total params: 8,753,659\n",
            "Trainable params: 8,686,084\n",
            "Non-trainable params: 67,575\n",
            "__________________________________________________________________________________________________\n"
          ],
          "name": "stdout"
        }
      ]
    },
    {
      "cell_type": "code",
      "metadata": {
        "colab": {
          "base_uri": "https://localhost:8080/"
        },
        "id": "HUwAGARb8XCA",
        "outputId": "a9922aef-5b21-4805-ed38-63812d08a593"
      },
      "source": [
        "from google.colab import drive\n",
        "drive.mount('/content/gdrive')"
      ],
      "execution_count": 25,
      "outputs": [
        {
          "output_type": "stream",
          "text": [
            "Mounted at /content/gdrive\n"
          ],
          "name": "stdout"
        }
      ]
    },
    {
      "cell_type": "code",
      "metadata": {
        "id": "I5CzHsBbWL1X"
      },
      "source": [
        "#Gradient Descendent Optimizer\n",
        "LR_AT_EPOCH0=5e-6\n",
        "from tensorflow.keras import optimizers, regularizers, initializers\n",
        "opt = optimizers.Adam(learning_rate=LR_AT_EPOCH0, decay=0.0 ,beta_1=0.9, beta_2=0.999, epsilon=1e-8, amsgrad=False)\n",
        "model.compile(loss='categorical_crossentropy',\n",
        "              optimizer=opt,\n",
        "              metrics=['accuracy'])"
      ],
      "execution_count": null,
      "outputs": []
    },
    {
      "cell_type": "markdown",
      "metadata": {
        "id": "OJp3JRphwEAg"
      },
      "source": [
        "Definizione di funzioni di utilità. "
      ]
    },
    {
      "cell_type": "code",
      "metadata": {
        "id": "Sz8vt580-PRM"
      },
      "source": [
        "earlystop = EarlyStopping(monitor = \"val_accuracy\", patience = 10, verbose = 1)\n",
        "learning_rate_reduction = ReduceLROnPlateau(monitor = \"val_accuracy\", patience = 2, verbose = 1, factor = 0.5, min_lr = 0.00001)\n",
        "checkpoint = ModelCheckpoint(\"/content/gdrive/MyDrive/t/EfficientNetB2_v2.h5\", monitor = \"val_accuracy\", verbose = 1, save_best_only = True, mode = \"auto\")\n",
        "callbacks = [earlystop, learning_rate_reduction, checkpoint]\n",
        "epochs = 30"
      ],
      "execution_count": null,
      "outputs": []
    },
    {
      "cell_type": "markdown",
      "metadata": {
        "id": "tIYK9yl910dt"
      },
      "source": [
        "## Training del modello - 30 Epoche"
      ]
    },
    {
      "cell_type": "code",
      "metadata": {
        "colab": {
          "base_uri": "https://localhost:8080/"
        },
        "id": "Mb22KgKY-WTv",
        "outputId": "73ba809f-5303-4dfe-cede-817fa85bfe13"
      },
      "source": [
        "history = model.fit(\n",
        "    train_generator, \n",
        "    epochs = epochs,\n",
        "    validation_data = validation_generator,\n",
        "    steps_per_epoch = total_train // batch_size,\n",
        "    callbacks = callbacks,\n",
        ")"
      ],
      "execution_count": null,
      "outputs": [
        {
          "output_type": "stream",
          "text": [
            "Epoch 1/30\n",
            "625/625 [==============================] - 729s 1s/step - loss: 3.8451 - accuracy: 0.5418 - val_loss: 3.8516 - val_accuracy: 0.4375\n",
            "\n",
            "Epoch 00001: val_accuracy improved from -inf to 0.43754, saving model to /content/gdrive/MyDrive/t/EfficientNetB2_v2.h5\n"
          ],
          "name": "stdout"
        },
        {
          "output_type": "stream",
          "text": [
            "/usr/local/lib/python3.7/dist-packages/keras/utils/generic_utils.py:497: CustomMaskWarning: Custom mask layers require a config and must override get_config. When loading, the custom mask layer must be passed to the custom_objects argument.\n",
            "  category=CustomMaskWarning)\n"
          ],
          "name": "stderr"
        },
        {
          "output_type": "stream",
          "text": [
            "Epoch 2/30\n",
            "625/625 [==============================] - 664s 1s/step - loss: 3.7718 - accuracy: 0.5616 - val_loss: 3.7297 - val_accuracy: 0.5406\n",
            "\n",
            "Epoch 00002: val_accuracy improved from 0.43754 to 0.54058, saving model to /content/gdrive/MyDrive/t/EfficientNetB2_v2.h5\n",
            "Epoch 3/30\n",
            "625/625 [==============================] - 666s 1s/step - loss: 3.7098 - accuracy: 0.5720 - val_loss: 3.6583 - val_accuracy: 0.5699\n",
            "\n",
            "Epoch 00003: val_accuracy improved from 0.54058 to 0.56990, saving model to /content/gdrive/MyDrive/t/EfficientNetB2_v2.h5\n",
            "Epoch 4/30\n",
            "625/625 [==============================] - 666s 1s/step - loss: 3.6468 - accuracy: 0.5890 - val_loss: 3.5908 - val_accuracy: 0.6075\n",
            "\n",
            "Epoch 00004: val_accuracy improved from 0.56990 to 0.60753, saving model to /content/gdrive/MyDrive/t/EfficientNetB2_v2.h5\n",
            "Epoch 5/30\n",
            "625/625 [==============================] - 667s 1s/step - loss: 3.5747 - accuracy: 0.6252 - val_loss: 3.4909 - val_accuracy: 0.6832\n",
            "\n",
            "Epoch 00005: val_accuracy improved from 0.60753 to 0.68322, saving model to /content/gdrive/MyDrive/t/EfficientNetB2_v2.h5\n",
            "Epoch 6/30\n",
            "625/625 [==============================] - 668s 1s/step - loss: 3.4888 - accuracy: 0.6651 - val_loss: 3.3884 - val_accuracy: 0.7388\n",
            "\n",
            "Epoch 00006: val_accuracy improved from 0.68322 to 0.73879, saving model to /content/gdrive/MyDrive/t/EfficientNetB2_v2.h5\n",
            "Epoch 7/30\n",
            "625/625 [==============================] - 666s 1s/step - loss: 3.4119 - accuracy: 0.6896 - val_loss: 3.3155 - val_accuracy: 0.7493\n",
            "\n",
            "Epoch 00007: val_accuracy improved from 0.73879 to 0.74929, saving model to /content/gdrive/MyDrive/t/EfficientNetB2_v2.h5\n",
            "Epoch 8/30\n",
            "625/625 [==============================] - 665s 1s/step - loss: 3.3458 - accuracy: 0.7070 - val_loss: 3.2690 - val_accuracy: 0.7504\n",
            "\n",
            "Epoch 00008: val_accuracy improved from 0.74929 to 0.75038, saving model to /content/gdrive/MyDrive/t/EfficientNetB2_v2.h5\n",
            "Epoch 9/30\n",
            "625/625 [==============================] - 667s 1s/step - loss: 3.2849 - accuracy: 0.7164 - val_loss: 3.2154 - val_accuracy: 0.7580\n",
            "\n",
            "Epoch 00009: val_accuracy improved from 0.75038 to 0.75804, saving model to /content/gdrive/MyDrive/t/EfficientNetB2_v2.h5\n",
            "Epoch 10/30\n",
            "625/625 [==============================] - 666s 1s/step - loss: 3.2285 - accuracy: 0.7239 - val_loss: 3.1644 - val_accuracy: 0.7532\n",
            "\n",
            "Epoch 00010: val_accuracy did not improve from 0.75804\n",
            "Epoch 11/30\n",
            "625/625 [==============================] - 667s 1s/step - loss: 3.1746 - accuracy: 0.7301 - val_loss: 3.1133 - val_accuracy: 0.7543\n",
            "\n",
            "Epoch 00011: val_accuracy did not improve from 0.75804\n",
            "Epoch 12/30\n",
            "625/625 [==============================] - 667s 1s/step - loss: 3.1206 - accuracy: 0.7304 - val_loss: 3.0656 - val_accuracy: 0.7559\n",
            "\n",
            "Epoch 00012: val_accuracy did not improve from 0.75804\n",
            "Epoch 13/30\n",
            "625/625 [==============================] - 667s 1s/step - loss: 3.0675 - accuracy: 0.7341 - val_loss: 3.0090 - val_accuracy: 0.7609\n",
            "\n",
            "Epoch 00013: val_accuracy improved from 0.75804 to 0.76088, saving model to /content/gdrive/MyDrive/t/EfficientNetB2_v2.h5\n",
            "Epoch 14/30\n",
            "625/625 [==============================] - 667s 1s/step - loss: 3.0198 - accuracy: 0.7351 - val_loss: 2.9579 - val_accuracy: 0.7648\n",
            "\n",
            "Epoch 00014: val_accuracy improved from 0.76088 to 0.76482, saving model to /content/gdrive/MyDrive/t/EfficientNetB2_v2.h5\n",
            "Epoch 15/30\n",
            "625/625 [==============================] - 666s 1s/step - loss: 2.9690 - accuracy: 0.7386 - val_loss: 2.9232 - val_accuracy: 0.7622\n",
            "\n",
            "Epoch 00015: val_accuracy did not improve from 0.76482\n",
            "Epoch 16/30\n",
            "625/625 [==============================] - 666s 1s/step - loss: 2.9237 - accuracy: 0.7387 - val_loss: 2.8793 - val_accuracy: 0.7594\n",
            "\n",
            "Epoch 00016: val_accuracy did not improve from 0.76482\n",
            "Epoch 17/30\n",
            "625/625 [==============================] - 666s 1s/step - loss: 2.8720 - accuracy: 0.7422 - val_loss: 2.8209 - val_accuracy: 0.7688\n",
            "\n",
            "Epoch 00017: val_accuracy improved from 0.76482 to 0.76876, saving model to /content/gdrive/MyDrive/t/EfficientNetB2_v2.h5\n",
            "Epoch 18/30\n",
            "625/625 [==============================] - 666s 1s/step - loss: 2.8247 - accuracy: 0.7491 - val_loss: 2.7793 - val_accuracy: 0.7703\n",
            "\n",
            "Epoch 00018: val_accuracy improved from 0.76876 to 0.77029, saving model to /content/gdrive/MyDrive/t/EfficientNetB2_v2.h5\n",
            "Epoch 19/30\n",
            "625/625 [==============================] - 666s 1s/step - loss: 2.7798 - accuracy: 0.7477 - val_loss: 2.7236 - val_accuracy: 0.7718\n",
            "\n",
            "Epoch 00019: val_accuracy improved from 0.77029 to 0.77182, saving model to /content/gdrive/MyDrive/t/EfficientNetB2_v2.h5\n",
            "Epoch 20/30\n",
            "625/625 [==============================] - 665s 1s/step - loss: 2.7266 - accuracy: 0.7552 - val_loss: 2.6837 - val_accuracy: 0.7723\n",
            "\n",
            "Epoch 00020: val_accuracy improved from 0.77182 to 0.77226, saving model to /content/gdrive/MyDrive/t/EfficientNetB2_v2.h5\n",
            "Epoch 21/30\n",
            "625/625 [==============================] - 665s 1s/step - loss: 2.6835 - accuracy: 0.7551 - val_loss: 2.6301 - val_accuracy: 0.7786\n",
            "\n",
            "Epoch 00021: val_accuracy improved from 0.77226 to 0.77860, saving model to /content/gdrive/MyDrive/t/EfficientNetB2_v2.h5\n",
            "Epoch 22/30\n",
            "625/625 [==============================] - 667s 1s/step - loss: 2.6367 - accuracy: 0.7577 - val_loss: 2.5974 - val_accuracy: 0.7793\n",
            "\n",
            "Epoch 00022: val_accuracy improved from 0.77860 to 0.77926, saving model to /content/gdrive/MyDrive/t/EfficientNetB2_v2.h5\n",
            "Epoch 23/30\n",
            "625/625 [==============================] - 667s 1s/step - loss: 2.5901 - accuracy: 0.7660 - val_loss: 2.5373 - val_accuracy: 0.7836\n",
            "\n",
            "Epoch 00023: val_accuracy improved from 0.77926 to 0.78364, saving model to /content/gdrive/MyDrive/t/EfficientNetB2_v2.h5\n",
            "Epoch 24/30\n",
            "625/625 [==============================] - 666s 1s/step - loss: 2.5416 - accuracy: 0.7685 - val_loss: 2.5098 - val_accuracy: 0.7814\n",
            "\n",
            "Epoch 00024: val_accuracy did not improve from 0.78364\n",
            "Epoch 25/30\n",
            "625/625 [==============================] - 666s 1s/step - loss: 2.4979 - accuracy: 0.7699 - val_loss: 2.4783 - val_accuracy: 0.7790\n",
            "\n",
            "Epoch 00025: val_accuracy did not improve from 0.78364\n",
            "Epoch 26/30\n",
            "625/625 [==============================] - 664s 1s/step - loss: 2.4577 - accuracy: 0.7728 - val_loss: 2.4155 - val_accuracy: 0.7913\n",
            "\n",
            "Epoch 00026: val_accuracy improved from 0.78364 to 0.79129, saving model to /content/gdrive/MyDrive/t/EfficientNetB2_v2.h5\n",
            "Epoch 27/30\n",
            "625/625 [==============================] - 666s 1s/step - loss: 2.4118 - accuracy: 0.7764 - val_loss: 2.3892 - val_accuracy: 0.7869\n",
            "\n",
            "Epoch 00027: val_accuracy did not improve from 0.79129\n",
            "Epoch 28/30\n",
            "625/625 [==============================] - 665s 1s/step - loss: 2.3718 - accuracy: 0.7783 - val_loss: 2.3356 - val_accuracy: 0.7959\n",
            "\n",
            "Epoch 00028: val_accuracy improved from 0.79129 to 0.79589, saving model to /content/gdrive/MyDrive/t/EfficientNetB2_v2.h5\n",
            "Epoch 29/30\n",
            "625/625 [==============================] - 666s 1s/step - loss: 2.3320 - accuracy: 0.7818 - val_loss: 2.3148 - val_accuracy: 0.7867\n",
            "\n",
            "Epoch 00029: val_accuracy did not improve from 0.79589\n",
            "Epoch 30/30\n",
            "625/625 [==============================] - 666s 1s/step - loss: 2.2894 - accuracy: 0.7875 - val_loss: 2.2837 - val_accuracy: 0.7902\n",
            "\n",
            "Epoch 00030: val_accuracy did not improve from 0.79589\n"
          ],
          "name": "stdout"
        }
      ]
    },
    {
      "cell_type": "markdown",
      "metadata": {
        "id": "jkDsNbMy2RpU"
      },
      "source": [
        "### Prestazioni del Training"
      ]
    },
    {
      "cell_type": "markdown",
      "metadata": {
        "id": "oY6RyVTg2Z1M"
      },
      "source": [
        "### Training Accuracy e Validation Accuracy"
      ]
    },
    {
      "cell_type": "code",
      "metadata": {
        "colab": {
          "base_uri": "https://localhost:8080/",
          "height": 295
        },
        "id": "d2MOkBG5-bnG",
        "outputId": "1275d5b2-1441-401f-f512-60030d977331"
      },
      "source": [
        "plt.plot(history.history[\"accuracy\"])\n",
        "plt.plot(history.history[\"val_accuracy\"])\n",
        "plt.title(\"Model accuracy\")\n",
        "plt.ylabel(\"%\")\n",
        "plt.xlabel(\"epoch\")\n",
        "plt.legend([\"train accuracy\",\"validation accuracy\"], loc=\"upper left\")\n",
        "plt.show()"
      ],
      "execution_count": null,
      "outputs": [
        {
          "output_type": "display_data",
          "data": {
            "image/png": "[encoded data removed]",
            "text/plain": [
              "<Figure size 432x288 with 1 Axes>"
            ]
          },
          "metadata": {
            "needs_background": "light"
          }
        }
      ]
    },
    {
      "cell_type": "markdown",
      "metadata": {
        "id": "3cDdWHqx2f-z"
      },
      "source": [
        "#### Training Loss a Validation Loss"
      ]
    },
    {
      "cell_type": "code",
      "metadata": {
        "colab": {
          "base_uri": "https://localhost:8080/",
          "height": 295
        },
        "id": "s18tFLCguqvO",
        "outputId": "b526cce4-7bf0-404d-a68b-9a44a4fb56f5"
      },
      "source": [
        "plt.plot(history.history[\"loss\"])\n",
        "plt.plot(history.history[\"val_loss\"])\n",
        "plt.title(\"Evaluation\")\n",
        "plt.ylabel(\"\")\n",
        "plt.xlabel(\"epoch\")\n",
        "plt.legend([\"Training loss\",\"Validation loss\"], loc=\"upper right\")\n",
        "plt.show()"
      ],
      "execution_count": null,
      "outputs": [
        {
          "output_type": "display_data",
          "data": {
            "image/png": "[encoded data removed]",
            "text/plain": [
              "<Figure size 432x288 with 1 Axes>"
            ]
          },
          "metadata": {
            "needs_background": "light"
          }
        }
      ]
    },
    {
      "cell_type": "markdown",
      "metadata": {
        "id": "BdyfiStFPG3I"
      },
      "source": [
        "#### Training Loss a Validation Loss"
      ]
    },
    {
      "cell_type": "code",
      "metadata": {
        "colab": {
          "base_uri": "https://localhost:8080/",
          "height": 295
        },
        "id": "58oG3jPF2V7C",
        "outputId": "dc0d1f13-d5de-4a9a-dc47-5cebf54250ea"
      },
      "source": [
        "plt.plot(history.history[\"val_accuracy\"])\n",
        "plt.plot(history.history[\"val_loss\"])\n",
        "plt.title(\"Model accuracy\")\n",
        "plt.ylabel(\"%\")\n",
        "plt.xlabel(\"epoch\")\n",
        "plt.legend([\"validation accuracy\",\"validation loss\"], loc=\"upper left\")\n",
        "plt.show()"
      ],
      "execution_count": null,
      "outputs": [
        {
          "output_type": "display_data",
          "data": {
            "image/png": "[encoded data removed]",
            "text/plain": [
              "<Figure size 432x288 with 1 Axes>"
            ]
          },
          "metadata": {
            "needs_background": "light"
          }
        }
      ]
    },
    {
      "cell_type": "markdown",
      "metadata": {
        "id": "MojeXecZnm4t"
      },
      "source": [
        "## Training modello  - 30"
      ]
    },
    {
      "cell_type": "code",
      "metadata": {
        "id": "omdc7uoDmPm3"
      },
      "source": [
        "model = tensorflow.keras.models.load_model(\"/content/gdrive/MyDrive/EfficientNetB2_v2.h5\")"
      ],
      "execution_count": 27,
      "outputs": []
    },
    {
      "cell_type": "code",
      "metadata": {
        "id": "Te7Ys_YPmkBF"
      },
      "source": [
        "#Gradient Descendent Optimizer\n",
        "LR_AT_EPOCH0=5e-6\n",
        "from tensorflow.keras import optimizers, regularizers, initializers\n",
        "opt = optimizers.Adam(learning_rate=LR_AT_EPOCH0, decay=0.0 ,beta_1=0.9, beta_2=0.999, epsilon=1e-8, amsgrad=False)\n",
        "model.compile(loss='categorical_crossentropy',\n",
        "              optimizer=opt,\n",
        "              metrics=['accuracy'])"
      ],
      "execution_count": 28,
      "outputs": []
    },
    {
      "cell_type": "code",
      "metadata": {
        "id": "eC7PAoMpmncI"
      },
      "source": [
        "earlystop = EarlyStopping(monitor = \"val_accuracy\", patience = 10, verbose = 1)\n",
        "learning_rate_reduction = ReduceLROnPlateau(monitor = \"val_accuracy\", patience = 1, verbose = 1, factor = 0.5, min_lr = 0.000001)\n",
        "checkpoint = ModelCheckpoint(\"/content/gdrive/MyDrive/t/EfficientNetB2_v3.h5\", monitor = \"val_accuracy\", verbose = 1, save_best_only = True, mode = \"auto\")\n",
        "callbacks = [earlystop, learning_rate_reduction, checkpoint]\n",
        "epochs = 30"
      ],
      "execution_count": 29,
      "outputs": []
    },
    {
      "cell_type": "markdown",
      "metadata": {
        "id": "fPABMR0P2InD"
      },
      "source": [
        "## Valutazione prestazioni\n",
        "In questa fase vengono valutate le prestazioni del modello addestrato utilizzando il Test set.\n",
        "\n",
        "La peculiarità del test set è che non vien mai visto dal modello durante la fase di training."
      ]
    },
    {
      "cell_type": "code",
      "metadata": {
        "id": "aXxNXcp2lpnR"
      },
      "source": [
        "Y_pred = model.predict(test_generator)\n",
        "y_pred = np.argmax(Y_pred, axis=1)"
      ],
      "execution_count": null,
      "outputs": []
    },
    {
      "cell_type": "code",
      "metadata": {
        "id": "2CbdHN791-T7"
      },
      "source": [
        "def plot_confusion_matrix(cm,\n",
        "                          target_names,\n",
        "                          title = 'Confusion matrix',\n",
        "                          cmap = None,\n",
        "                          normalize = True):\n",
        "\n",
        "    import matplotlib.pyplot as plt\n",
        "    import numpy as np\n",
        "    import itertools\n",
        "\n",
        "    accuracy = np.trace(cm) / float(np.sum(cm))\n",
        "    misclass = 1 - accuracy\n",
        "\n",
        "    if cmap is None:\n",
        "        cmap = plt.get_cmap('Reds')\n",
        "\n",
        "    plt.figure(figsize = (8, 6))\n",
        "    plt.imshow(cm, interpolation = 'nearest', cmap = cmap)\n",
        "    plt.title(title)\n",
        "    plt.colorbar()\n",
        "\n",
        "    if target_names is not None:\n",
        "        tick_marks = np.arange(len(target_names))\n",
        "        plt.xticks(tick_marks, target_names, rotation = 45)\n",
        "        plt.yticks(tick_marks, target_names)\n",
        "\n",
        "    if normalize:\n",
        "        cm = cm.astype('float') / cm.sum(axis = 1)[:, np.newaxis]\n",
        "\n",
        "\n",
        "    thresh = cm.max() / 1.5 if normalize else cm.max() / 2\n",
        "    for i, j in itertools.product(range(cm.shape[0]), range(cm.shape[1])):\n",
        "        if normalize:\n",
        "            plt.text(j, i, \"{:0.4f}\".format(cm[i, j]),\n",
        "                     horizontalalignment = \"center\",\n",
        "                     color = \"white\" if cm[i, j] > thresh else \"black\")\n",
        "        else:\n",
        "            plt.text(j, i, \"{:,}\".format(cm[i, j]),\n",
        "                     horizontalalignment = \"center\",\n",
        "                     color = \"white\" if cm[i, j] > thresh else \"black\")\n",
        "\n",
        "\n",
        "    plt.tight_layout()\n",
        "    plt.ylabel('True label')\n",
        "    plt.xlabel('Predicted label\\naccuracy = {:0.4f}; misclass = {:0.4f}'.format(accuracy, misclass))\n",
        "    plt.show()"
      ],
      "execution_count": null,
      "outputs": []
    },
    {
      "cell_type": "code",
      "metadata": {
        "colab": {
          "base_uri": "https://localhost:8080/",
          "height": 654
        },
        "id": "MXQ_lWFRJQXJ",
        "outputId": "0db45393-7d9c-4103-bb21-62054f99a3dc"
      },
      "source": [
        "print('Confusion Matrix')\n",
        "\n",
        "plot_confusion_matrix(cm = confusion_matrix(test_generator.classes, y_pred), \n",
        "                            normalize = False,\n",
        "                            target_names = ['Hem', 'All'],\n",
        "                            title = \"Confusion Matrix without Normalization\")\n",
        "\n",
        "print('Classification Report')\n",
        "target_names = ['Hem', 'All']\n",
        "print(classification_report(test_generator.classes, y_pred, target_names=target_names))"
      ],
      "execution_count": null,
      "outputs": [
        {
          "output_type": "stream",
          "text": [
            "Confusion Matrix\n"
          ],
          "name": "stdout"
        },
        {
          "output_type": "display_data",
          "data": {
            "image/png": "[encoded data removed]",
            "text/plain": [
              "<Figure size 576x432 with 2 Axes>"
            ]
          },
          "metadata": {
            "needs_background": "light"
          }
        },
        {
          "output_type": "stream",
          "text": [
            "Classification Report\n",
            "              precision    recall  f1-score   support\n",
            "\n",
            "         Hem       0.68      0.67      0.67       365\n",
            "         All       0.86      0.87      0.87       888\n",
            "\n",
            "    accuracy                           0.81      1253\n",
            "   macro avg       0.77      0.77      0.77      1253\n",
            "weighted avg       0.81      0.81      0.81      1253\n",
            "\n"
          ],
          "name": "stdout"
        }
      ]
    }
  ]
}