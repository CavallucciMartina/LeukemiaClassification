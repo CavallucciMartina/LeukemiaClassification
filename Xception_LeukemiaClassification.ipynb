{
  "nbformat": 4,
  "nbformat_minor": 0,
  "metadata": {
    "colab": {
      "name": "Xception-LeukemiaClassification.ipynb",
      "provenance": [],
      "collapsed_sections": []
    },
    "kernelspec": {
      "display_name": "Python 3",
      "name": "python3"
    },
    "language_info": {
      "name": "python"
    },
    "accelerator": "GPU"
  },
  "cells": [
    {
      "cell_type": "markdown",
      "metadata": {
        "id": "Y6J-Iz0Kr_as"
      },
      "source": [
        "# Modello realizzato da zero\n",
        "\n",
        "## Inizializzazione librerie"
      ]
    },
    {
      "cell_type": "code",
      "metadata": {
        "id": "VEwdMWXw-AOP"
      },
      "source": [
        "import numpy as np\n",
        "import pandas as pd\n",
        "import matplotlib.pyplot as plt\n",
        "import tensorflow\n",
        "import os\n",
        "import tqdm\n",
        "import skimage.io\n",
        "import glob\n",
        "import random\n",
        "\n",
        "from tqdm import tqdm\n",
        "\n",
        "from skimage.io import imread, imshow, imsave\n",
        "from skimage.transform import resize\n",
        "from sklearn.model_selection import train_test_split\n",
        "from sklearn.metrics import confusion_matrix, classification_report\n",
        "from sklearn.utils import shuffle\n",
        "\n",
        "# Instantiating the model for loading the weights and biases and preprocess_input\n",
        "from keras.models import Sequential\n",
        "from keras.preprocessing.image import ImageDataGenerator, load_img\n",
        "from keras.layers import Conv2D, MaxPooling2D, Dropout, Flatten, Dense, Activation, BatchNormalization\n",
        "from keras.optimizers import Adam\n",
        "from keras.callbacks import EarlyStopping, ReduceLROnPlateau, ModelCheckpoint\n",
        "from tensorflow.keras import layers\n",
        "\n",
        "%matplotlib inline"
      ],
      "execution_count": 1,
      "outputs": []
    },
    {
      "cell_type": "code",
      "metadata": {
        "id": "r8dm9GiM-aXN"
      },
      "source": [
        "! pip install -q kaggle"
      ],
      "execution_count": 2,
      "outputs": []
    },
    {
      "cell_type": "code",
      "metadata": {
        "id": "W6_BTe64-cxH",
        "colab": {
          "resources": {
            "http://localhost:8080/nbextensions/google.colab/files.js": {
              "data": "Ly8gQ29weXJpZ2h0IDIwMTcgR29vZ2xlIExMQwovLwovLyBMaWNlbnNlZCB1bmRlciB0aGUgQXBhY2hlIExpY2Vuc2UsIFZlcnNpb24gMi4wICh0aGUgIkxpY2Vuc2UiKTsKLy8geW91IG1heSBub3QgdXNlIHRoaXMgZmlsZSBleGNlcHQgaW4gY29tcGxpYW5jZSB3aXRoIHRoZSBMaWNlbnNlLgovLyBZb3UgbWF5IG9idGFpbiBhIGNvcHkgb2YgdGhlIExpY2Vuc2UgYXQKLy8KLy8gICAgICBodHRwOi8vd3d3LmFwYWNoZS5vcmcvbGljZW5zZXMvTElDRU5TRS0yLjAKLy8KLy8gVW5sZXNzIHJlcXVpcmVkIGJ5IGFwcGxpY2FibGUgbGF3IG9yIGFncmVlZCB0byBpbiB3cml0aW5nLCBzb2Z0d2FyZQovLyBkaXN0cmlidXRlZCB1bmRlciB0aGUgTGljZW5zZSBpcyBkaXN0cmlidXRlZCBvbiBhbiAiQVMgSVMiIEJBU0lTLAovLyBXSVRIT1VUIFdBUlJBTlRJRVMgT1IgQ09ORElUSU9OUyBPRiBBTlkgS0lORCwgZWl0aGVyIGV4cHJlc3Mgb3IgaW1wbGllZC4KLy8gU2VlIHRoZSBMaWNlbnNlIGZvciB0aGUgc3BlY2lmaWMgbGFuZ3VhZ2UgZ292ZXJuaW5nIHBlcm1pc3Npb25zIGFuZAovLyBsaW1pdGF0aW9ucyB1bmRlciB0aGUgTGljZW5zZS4KCi8qKgogKiBAZmlsZW92ZXJ2aWV3IEhlbHBlcnMgZm9yIGdvb2dsZS5jb2xhYiBQeXRob24gbW9kdWxlLgogKi8KKGZ1bmN0aW9uKHNjb3BlKSB7CmZ1bmN0aW9uIHNwYW4odGV4dCwgc3R5bGVBdHRyaWJ1dGVzID0ge30pIHsKICBjb25zdCBlbGVtZW50ID0gZG9jdW1lbnQuY3JlYXRlRWxlbWVudCgnc3BhbicpOwogIGVsZW1lbnQudGV4dENvbnRlbnQgPSB0ZXh0OwogIGZvciAoY29uc3Qga2V5IG9mIE9iamVjdC5rZXlzKHN0eWxlQXR0cmlidXRlcykpIHsKICAgIGVsZW1lbnQuc3R5bGVba2V5XSA9IHN0eWxlQXR0cmlidXRlc1trZXldOwogIH0KICByZXR1cm4gZWxlbWVudDsKfQoKLy8gTWF4IG51bWJlciBvZiBieXRlcyB3aGljaCB3aWxsIGJlIHVwbG9hZGVkIGF0IGEgdGltZS4KY29uc3QgTUFYX1BBWUxPQURfU0laRSA9IDEwMCAqIDEwMjQ7CgpmdW5jdGlvbiBfdXBsb2FkRmlsZXMoaW5wdXRJZCwgb3V0cHV0SWQpIHsKICBjb25zdCBzdGVwcyA9IHVwbG9hZEZpbGVzU3RlcChpbnB1dElkLCBvdXRwdXRJZCk7CiAgY29uc3Qgb3V0cHV0RWxlbWVudCA9IGRvY3VtZW50LmdldEVsZW1lbnRCeUlkKG91dHB1dElkKTsKICAvLyBDYWNoZSBzdGVwcyBvbiB0aGUgb3V0cHV0RWxlbWVudCB0byBtYWtlIGl0IGF2YWlsYWJsZSBmb3IgdGhlIG5leHQgY2FsbAogIC8vIHRvIHVwbG9hZEZpbGVzQ29udGludWUgZnJvbSBQeXRob24uCiAgb3V0cHV0RWxlbWVudC5zdGVwcyA9IHN0ZXBzOwoKICByZXR1cm4gX3VwbG9hZEZpbGVzQ29udGludWUob3V0cHV0SWQpOwp9CgovLyBUaGlzIGlzIHJvdWdobHkgYW4gYXN5bmMgZ2VuZXJhdG9yIChub3Qgc3VwcG9ydGVkIGluIHRoZSBicm93c2VyIHlldCksCi8vIHdoZXJlIHRoZXJlIGFyZSBtdWx0aXBsZSBhc3luY2hyb25vdXMgc3RlcHMgYW5kIHRoZSBQeXRob24gc2lkZSBpcyBnb2luZwovLyB0byBwb2xsIGZvciBjb21wbGV0aW9uIG9mIGVhY2ggc3RlcC4KLy8gVGhpcyB1c2VzIGEgUHJvbWlzZSB0byBibG9jayB0aGUgcHl0aG9uIHNpZGUgb24gY29tcGxldGlvbiBvZiBlYWNoIHN0ZXAsCi8vIHRoZW4gcGFzc2VzIHRoZSByZXN1bHQgb2YgdGhlIHByZXZpb3VzIHN0ZXAgYXMgdGhlIGlucHV0IHRvIHRoZSBuZXh0IHN0ZXAuCmZ1bmN0aW9uIF91cGxvYWRGaWxlc0NvbnRpbnVlKG91dHB1dElkKSB7CiAgY29uc3Qgb3V0cHV0RWxlbWVudCA9IGRvY3VtZW50LmdldEVsZW1lbnRCeUlkKG91dHB1dElkKTsKICBjb25zdCBzdGVwcyA9IG91dHB1dEVsZW1lbnQuc3RlcHM7CgogIGNvbnN0IG5leHQgPSBzdGVwcy5uZXh0KG91dHB1dEVsZW1lbnQubGFzdFByb21pc2VWYWx1ZSk7CiAgcmV0dXJuIFByb21pc2UucmVzb2x2ZShuZXh0LnZhbHVlLnByb21pc2UpLnRoZW4oKHZhbHVlKSA9PiB7CiAgICAvLyBDYWNoZSB0aGUgbGFzdCBwcm9taXNlIHZhbHVlIHRvIG1ha2UgaXQgYXZhaWxhYmxlIHRvIHRoZSBuZXh0CiAgICAvLyBzdGVwIG9mIHRoZSBnZW5lcmF0b3IuCiAgICBvdXRwdXRFbGVtZW50Lmxhc3RQcm9taXNlVmFsdWUgPSB2YWx1ZTsKICAgIHJldHVybiBuZXh0LnZhbHVlLnJlc3BvbnNlOwogIH0pOwp9CgovKioKICogR2VuZXJhdG9yIGZ1bmN0aW9uIHdoaWNoIGlzIGNhbGxlZCBiZXR3ZWVuIGVhY2ggYXN5bmMgc3RlcCBvZiB0aGUgdXBsb2FkCiAqIHByb2Nlc3MuCiAqIEBwYXJhbSB7c3RyaW5nfSBpbnB1dElkIEVsZW1lbnQgSUQgb2YgdGhlIGlucHV0IGZpbGUgcGlja2VyIGVsZW1lbnQuCiAqIEBwYXJhbSB7c3RyaW5nfSBvdXRwdXRJZCBFbGVtZW50IElEIG9mIHRoZSBvdXRwdXQgZGlzcGxheS4KICogQHJldHVybiB7IUl0ZXJhYmxlPCFPYmplY3Q+fSBJdGVyYWJsZSBvZiBuZXh0IHN0ZXBzLgogKi8KZnVuY3Rpb24qIHVwbG9hZEZpbGVzU3RlcChpbnB1dElkLCBvdXRwdXRJZCkgewogIGNvbnN0IGlucHV0RWxlbWVudCA9IGRvY3VtZW50LmdldEVsZW1lbnRCeUlkKGlucHV0SWQpOwogIGlucHV0RWxlbWVudC5kaXNhYmxlZCA9IGZhbHNlOwoKICBjb25zdCBvdXRwdXRFbGVtZW50ID0gZG9jdW1lbnQuZ2V0RWxlbWVudEJ5SWQob3V0cHV0SWQpOwogIG91dHB1dEVsZW1lbnQuaW5uZXJIVE1MID0gJyc7CgogIGNvbnN0IHBpY2tlZFByb21pc2UgPSBuZXcgUHJvbWlzZSgocmVzb2x2ZSkgPT4gewogICAgaW5wdXRFbGVtZW50LmFkZEV2ZW50TGlzdGVuZXIoJ2NoYW5nZScsIChlKSA9PiB7CiAgICAgIHJlc29sdmUoZS50YXJnZXQuZmlsZXMpOwogICAgfSk7CiAgfSk7CgogIGNvbnN0IGNhbmNlbCA9IGRvY3VtZW50LmNyZWF0ZUVsZW1lbnQoJ2J1dHRvbicpOwogIGlucHV0RWxlbWVudC5wYXJlbnRFbGVtZW50LmFwcGVuZENoaWxkKGNhbmNlbCk7CiAgY2FuY2VsLnRleHRDb250ZW50ID0gJ0NhbmNlbCB1cGxvYWQnOwogIGNvbnN0IGNhbmNlbFByb21pc2UgPSBuZXcgUHJvbWlzZSgocmVzb2x2ZSkgPT4gewogICAgY2FuY2VsLm9uY2xpY2sgPSAoKSA9PiB7CiAgICAgIHJlc29sdmUobnVsbCk7CiAgICB9OwogIH0pOwoKICAvLyBXYWl0IGZvciB0aGUgdXNlciB0byBwaWNrIHRoZSBmaWxlcy4KICBjb25zdCBmaWxlcyA9IHlpZWxkIHsKICAgIHByb21pc2U6IFByb21pc2UucmFjZShbcGlja2VkUHJvbWlzZSwgY2FuY2VsUHJvbWlzZV0pLAogICAgcmVzcG9uc2U6IHsKICAgICAgYWN0aW9uOiAnc3RhcnRpbmcnLAogICAgfQogIH07CgogIGNhbmNlbC5yZW1vdmUoKTsKCiAgLy8gRGlzYWJsZSB0aGUgaW5wdXQgZWxlbWVudCBzaW5jZSBmdXJ0aGVyIHBpY2tzIGFyZSBub3QgYWxsb3dlZC4KICBpbnB1dEVsZW1lbnQuZGlzYWJsZWQgPSB0cnVlOwoKICBpZiAoIWZpbGVzKSB7CiAgICByZXR1cm4gewogICAgICByZXNwb25zZTogewogICAgICAgIGFjdGlvbjogJ2NvbXBsZXRlJywKICAgICAgfQogICAgfTsKICB9CgogIGZvciAoY29uc3QgZmlsZSBvZiBmaWxlcykgewogICAgY29uc3QgbGkgPSBkb2N1bWVudC5jcmVhdGVFbGVtZW50KCdsaScpOwogICAgbGkuYXBwZW5kKHNwYW4oZmlsZS5uYW1lLCB7Zm9udFdlaWdodDogJ2JvbGQnfSkpOwogICAgbGkuYXBwZW5kKHNwYW4oCiAgICAgICAgYCgke2ZpbGUudHlwZSB8fCAnbi9hJ30pIC0gJHtmaWxlLnNpemV9IGJ5dGVzLCBgICsKICAgICAgICBgbGFzdCBtb2RpZmllZDogJHsKICAgICAgICAgICAgZmlsZS5sYXN0TW9kaWZpZWREYXRlID8gZmlsZS5sYXN0TW9kaWZpZWREYXRlLnRvTG9jYWxlRGF0ZVN0cmluZygpIDoKICAgICAgICAgICAgICAgICAgICAgICAgICAgICAgICAgICAgJ24vYSd9IC0gYCkpOwogICAgY29uc3QgcGVyY2VudCA9IHNwYW4oJzAlIGRvbmUnKTsKICAgIGxpLmFwcGVuZENoaWxkKHBlcmNlbnQpOwoKICAgIG91dHB1dEVsZW1lbnQuYXBwZW5kQ2hpbGQobGkpOwoKICAgIGNvbnN0IGZpbGVEYXRhUHJvbWlzZSA9IG5ldyBQcm9taXNlKChyZXNvbHZlKSA9PiB7CiAgICAgIGNvbnN0IHJlYWRlciA9IG5ldyBGaWxlUmVhZGVyKCk7CiAgICAgIHJlYWRlci5vbmxvYWQgPSAoZSkgPT4gewogICAgICAgIHJlc29sdmUoZS50YXJnZXQucmVzdWx0KTsKICAgICAgfTsKICAgICAgcmVhZGVyLnJlYWRBc0FycmF5QnVmZmVyKGZpbGUpOwogICAgfSk7CiAgICAvLyBXYWl0IGZvciB0aGUgZGF0YSB0byBiZSByZWFkeS4KICAgIGxldCBmaWxlRGF0YSA9IHlpZWxkIHsKICAgICAgcHJvbWlzZTogZmlsZURhdGFQcm9taXNlLAogICAgICByZXNwb25zZTogewogICAgICAgIGFjdGlvbjogJ2NvbnRpbnVlJywKICAgICAgfQogICAgfTsKCiAgICAvLyBVc2UgYSBjaHVua2VkIHNlbmRpbmcgdG8gYXZvaWQgbWVzc2FnZSBzaXplIGxpbWl0cy4gU2VlIGIvNjIxMTU2NjAuCiAgICBsZXQgcG9zaXRpb24gPSAwOwogICAgZG8gewogICAgICBjb25zdCBsZW5ndGggPSBNYXRoLm1pbihmaWxlRGF0YS5ieXRlTGVuZ3RoIC0gcG9zaXRpb24sIE1BWF9QQVlMT0FEX1NJWkUpOwogICAgICBjb25zdCBjaHVuayA9IG5ldyBVaW50OEFycmF5KGZpbGVEYXRhLCBwb3NpdGlvbiwgbGVuZ3RoKTsKICAgICAgcG9zaXRpb24gKz0gbGVuZ3RoOwoKICAgICAgY29uc3QgYmFzZTY0ID0gYnRvYShTdHJpbmcuZnJvbUNoYXJDb2RlLmFwcGx5KG51bGwsIGNodW5rKSk7CiAgICAgIHlpZWxkIHsKICAgICAgICByZXNwb25zZTogewogICAgICAgICAgYWN0aW9uOiAnYXBwZW5kJywKICAgICAgICAgIGZpbGU6IGZpbGUubmFtZSwKICAgICAgICAgIGRhdGE6IGJhc2U2NCwKICAgICAgICB9LAogICAgICB9OwoKICAgICAgbGV0IHBlcmNlbnREb25lID0gZmlsZURhdGEuYnl0ZUxlbmd0aCA9PT0gMCA/CiAgICAgICAgICAxMDAgOgogICAgICAgICAgTWF0aC5yb3VuZCgocG9zaXRpb24gLyBmaWxlRGF0YS5ieXRlTGVuZ3RoKSAqIDEwMCk7CiAgICAgIHBlcmNlbnQudGV4dENvbnRlbnQgPSBgJHtwZXJjZW50RG9uZX0lIGRvbmVgOwoKICAgIH0gd2hpbGUgKHBvc2l0aW9uIDwgZmlsZURhdGEuYnl0ZUxlbmd0aCk7CiAgfQoKICAvLyBBbGwgZG9uZS4KICB5aWVsZCB7CiAgICByZXNwb25zZTogewogICAgICBhY3Rpb246ICdjb21wbGV0ZScsCiAgICB9CiAgfTsKfQoKc2NvcGUuZ29vZ2xlID0gc2NvcGUuZ29vZ2xlIHx8IHt9OwpzY29wZS5nb29nbGUuY29sYWIgPSBzY29wZS5nb29nbGUuY29sYWIgfHwge307CnNjb3BlLmdvb2dsZS5jb2xhYi5fZmlsZXMgPSB7CiAgX3VwbG9hZEZpbGVzLAogIF91cGxvYWRGaWxlc0NvbnRpbnVlLAp9Owp9KShzZWxmKTsK",
              "ok": true,
              "headers": [
                [
                  "content-type",
                  "application/javascript"
                ]
              ],
              "status": 200,
              "status_text": ""
            }
          },
          "base_uri": "https://localhost:8080/",
          "height": 89
        },
        "outputId": "5e5f73e4-d8df-496f-fb44-1551c3eebb16"
      },
      "source": [
        "from google.colab import files \n",
        "files.upload()"
      ],
      "execution_count": 3,
      "outputs": [
        {
          "output_type": "display_data",
          "data": {
            "text/html": [
              "\n",
              "     <input type=\"file\" id=\"files-3dfdb64e-e772-4802-8658-687036c79b99\" name=\"files[]\" multiple disabled\n",
              "        style=\"border:none\" />\n",
              "     <output id=\"result-3dfdb64e-e772-4802-8658-687036c79b99\">\n",
              "      Upload widget is only available when the cell has been executed in the\n",
              "      current browser session. Please rerun this cell to enable.\n",
              "      </output>\n",
              "      <script src=\"/nbextensions/google.colab/files.js\"></script> "
            ],
            "text/plain": [
              "<IPython.core.display.HTML object>"
            ]
          },
          "metadata": {
            "tags": []
          }
        },
        {
          "output_type": "stream",
          "text": [
            "Saving kaggle.json to kaggle.json\n"
          ],
          "name": "stdout"
        },
        {
          "output_type": "execute_result",
          "data": {
            "text/plain": [
              "{'kaggle.json': b'{\"username\":\"martinacavallucci\",\"key\":\"1813c6e53fa0a380c7ec0e80fefbebdd\"}'}"
            ]
          },
          "metadata": {
            "tags": []
          },
          "execution_count": 3
        }
      ]
    },
    {
      "cell_type": "code",
      "metadata": {
        "id": "oO2ZMq8w-eJb"
      },
      "source": [
        "! mkdir ~/.kaggle \n",
        "! cp kaggle.json ~/.kaggle/"
      ],
      "execution_count": 4,
      "outputs": []
    },
    {
      "cell_type": "code",
      "metadata": {
        "id": "7gxJ3KTU-fqI"
      },
      "source": [
        "! chmod 600 ~/.kaggle/kaggle.json"
      ],
      "execution_count": 5,
      "outputs": []
    },
    {
      "cell_type": "markdown",
      "metadata": {
        "id": "SaOxicD-sQpa"
      },
      "source": [
        "## Download dataset"
      ]
    },
    {
      "cell_type": "code",
      "metadata": {
        "id": "I_QvAWfy-iup",
        "colab": {
          "base_uri": "https://localhost:8080/"
        },
        "outputId": "a3e27ad2-bb3f-40e7-b66c-b415190b9da7"
      },
      "source": [
        "! kaggle datasets download -d andrewmvd/leukemia-classification"
      ],
      "execution_count": 6,
      "outputs": [
        {
          "output_type": "stream",
          "text": [
            "Downloading leukemia-classification.zip to /content\n",
            " 99% 862M/867M [00:08<00:00, 87.3MB/s]\n",
            "100% 867M/867M [00:08<00:00, 107MB/s] \n"
          ],
          "name": "stdout"
        }
      ]
    },
    {
      "cell_type": "code",
      "metadata": {
        "id": "dbFOqiA_-k--"
      },
      "source": [
        "! unzip leukemia-classification.zip"
      ],
      "execution_count": null,
      "outputs": []
    },
    {
      "cell_type": "markdown",
      "metadata": {
        "id": "hYndKCShs0Uv"
      },
      "source": [
        "## Caricamento nomi immagini dalle cartelle del dataset"
      ]
    },
    {
      "cell_type": "code",
      "metadata": {
        "id": "sjp_ntlIO8rv"
      },
      "source": [
        "# # delete_test_file = glob.glob('/content/C-NMC_Leukemia/validation_data/C-NMC_test_prelim_phase_data/*.bmp')\n",
        "# # for file in delete_test_file:\n",
        "# #   os.remove(file)\n",
        "# !ls\n",
        "\n",
        "# ! unzip C-NMC_test_prelim_phase_data.zip -d /content/C-NMC_Leukemia/validation_data"
      ],
      "execution_count": null,
      "outputs": []
    },
    {
      "cell_type": "code",
      "metadata": {
        "id": "6Mnkt6R9-mz_"
      },
      "source": [
        "import os\n",
        "import glob\n",
        "if os.path.exists(\"./leukemia-classification.zip\"):\n",
        "  os.remove(\"./leukemia-classification.zip\")\n",
        "# Reading Data\n",
        "# elimino file non utilizzabili\n",
        "delete_test_file = glob.glob('./C-NMC_Leukemia/testing_data/C-NMC_test_final_phase_data/*.bmp')\n",
        "for file in delete_test_file:\n",
        "  os.remove(file)\n",
        "\n",
        "train_dataset_0_all = glob.glob('./C-NMC_Leukemia/training_data/fold_0/all/*.bmp')\n",
        "train_dataset_0_hem = glob.glob('./C-NMC_Leukemia/training_data/fold_0/hem/*.bmp')\n",
        "train_dataset_1_all = glob.glob('./C-NMC_Leukemia/training_data/fold_1/all/*.bmp')\n",
        "train_dataset_1_hem = glob.glob('./C-NMC_Leukemia/training_data/fold_1/hem/*.bmp')\n",
        "train_dataset_2_all = glob.glob('./C-NMC_Leukemia/training_data/fold_2/all/*.bmp')\n",
        "train_dataset_2_hem = glob.glob('./C-NMC_Leukemia/training_data/fold_2/hem/*.bmp')\n",
        "\n",
        "# test_dataset  = glob.glob('./C-NMC_Leukemia/testing_data/C-NMC_test_final_phase_data/*.bmp')\n",
        "# valid_dataset = glob.glob('./C-NMC_Leukemia/validation_data/C-NMC_test_prelim_phase_data/*.bmp')\n",
        "\n",
        "valid_data = pd.read_csv('./C-NMC_Leukemia/validation_data/C-NMC_test_prelim_phase_data_labels.csv')"
      ],
      "execution_count": 2,
      "outputs": []
    },
    {
      "cell_type": "markdown",
      "metadata": {
        "id": "0mSJN4sas7p4"
      },
      "source": [
        "Definizione proprietà delle immagini"
      ]
    },
    {
      "cell_type": "code",
      "metadata": {
        "id": "xVVD4Z9J9FON"
      },
      "source": [
        "IMAGE_WIDTH = 450\n",
        "IMAGE_HEIGHT = 450\n",
        "\n",
        "IMAGE_SIZE = (IMAGE_WIDTH, IMAGE_HEIGHT)\n",
        "IMAGE_CHANNELS = 3"
      ],
      "execution_count": 3,
      "outputs": []
    },
    {
      "cell_type": "markdown",
      "metadata": {
        "id": "8WOgKBLLs-9o"
      },
      "source": [
        "mergin immagini delle differenti classi e delle loro label"
      ]
    },
    {
      "cell_type": "code",
      "metadata": {
        "id": "4A9jyf-d49HL"
      },
      "source": [
        "# RGB_SCALE = 255\n",
        "# CMYK_SCALE = 255\n",
        "\n",
        "\n",
        "# def rgb_to_cmyk(img):\n",
        "#     R = img[:,:,0]\n",
        "#     G = img[:,:,1]\n",
        "#     B = img[:,:,2]\n",
        "\n",
        "#     c = 1 - R / RGB_SCALE\n",
        "#     m = 1 - G / RGB_SCALE\n",
        "#     y = 1 - B / RGB_SCALE\n",
        "#     min_cmy = np.minimum(c, np.minimum(m, y))\n",
        "#     c = ((c - min_cmy) / (1 - min_cmy)) * CMYK_SCALE\n",
        "#     m = ((m - min_cmy) / (1 - min_cmy)) * CMYK_SCALE\n",
        "#     y = ((y - min_cmy) / (1 - min_cmy)) * CMYK_SCALE\n",
        "#     result = np.zeros(img.shape, dtype=\"uint8\")\n",
        "#     result[:,:,0] = c.astype(int)\n",
        "#     result[:,:,1] = m.astype(int)\n",
        "#     result[:,:,2] = y.astype(int)\n",
        "#     return result"
      ],
      "execution_count": null,
      "outputs": []
    },
    {
      "cell_type": "code",
      "metadata": {
        "id": "pHodGdpdVi1-"
      },
      "source": [
        "dataset_all = train_dataset_0_all + train_dataset_1_all + train_dataset_2_all\n",
        "dataset_hem = train_dataset_0_hem + train_dataset_1_hem + train_dataset_2_hem \n",
        "\n",
        "\n",
        "label_all =  [\"1\" for x in range(len(dataset_all))] \n",
        "label_hem = [\"0\" for x in range(len(dataset_hem))] \n",
        "\n",
        "dataset = dataset_all + dataset_hem\n",
        "label = label_all + label_hem"
      ],
      "execution_count": 4,
      "outputs": []
    },
    {
      "cell_type": "code",
      "metadata": {
        "id": "toFkMrOj5gqf"
      },
      "source": [
        "# with tensorflow.device('/device:GPU:0'):\n",
        "#   for filename in tqdm(dataset):\n",
        "#     image = imread(filename)\n",
        "#     img = rgb_to_cmyk(image)\n",
        "#     imsave(filename, img)"
      ],
      "execution_count": null,
      "outputs": []
    },
    {
      "cell_type": "code",
      "metadata": {
        "id": "CaF-zzcvXPk4",
        "colab": {
          "base_uri": "https://localhost:8080/"
        },
        "outputId": "269f1c8c-6f05-4db8-a6ad-6fd9501455f4"
      },
      "source": [
        "print(\"# image All: \" + str(len(dataset_all)))\n",
        "print(\"# image Hem: \" + str(len(dataset_hem)))\n",
        "print(\"# image: \" + str(len(dataset)))\n"
      ],
      "execution_count": 5,
      "outputs": [
        {
          "output_type": "stream",
          "text": [
            "# image All: 7272\n",
            "# image Hem: 3389\n",
            "# image: 10661\n"
          ],
          "name": "stdout"
        }
      ]
    },
    {
      "cell_type": "markdown",
      "metadata": {
        "id": "2PP_JI1PtHf-"
      },
      "source": [
        "## Data Augmetation\n",
        "In questa fase verà eseguato della data augmetation alle immagini per ottenre un dataset che comprenda 10000 immagini per ogni classe del problema.\n",
        "\n",
        "### Campionamento delle immagini"
      ]
    },
    {
      "cell_type": "code",
      "metadata": {
        "id": "crrCI6IeaXg5",
        "colab": {
          "base_uri": "https://localhost:8080/"
        },
        "outputId": "0f0a1b06-16f8-4e22-8a8d-b58958d5c0c5"
      },
      "source": [
        "\n",
        "NUM_AUGMETATION = 2\n",
        "\n",
        "augmetedImage_all = random.sample(dataset_all, (10000 - len(dataset_all)))\n",
        "print(\"# image To augment (All): \" + str(len(augmetedImage_all)))\n",
        "\n",
        "augmetedImage_hem = random.sample(dataset_hem + dataset_hem, (10000 - len(dataset_hem)))\n",
        "print(\"# image To augment (hem): \" + str(len(augmetedImage_hem)))\n",
        "\n"
      ],
      "execution_count": 12,
      "outputs": [
        {
          "output_type": "stream",
          "text": [
            "# image To augment (All): 2728\n",
            "# image To augment (hem): 6611\n"
          ],
          "name": "stdout"
        }
      ]
    },
    {
      "cell_type": "markdown",
      "metadata": {
        "id": "98-61As2tSKW"
      },
      "source": [
        "### Esecuzione Data augmetation\n",
        "\n",
        "Le operazioni effetuate sulla immagine sono:\n",
        "\n",
        "\n",
        "1.   Flip casuale in una delle 2 direzioni (verticale / orizontale)\n",
        "2.   Rotazione casuale\n",
        "3.   Cropping casuale dell'immgine\n",
        "4.   modifica casuale del contrasto dell'immagine\n",
        "5.   Resizing per riportarel e immagini croppate alla dimensione originale\n",
        "\n",
        "\n",
        "\n",
        "\n"
      ]
    },
    {
      "cell_type": "code",
      "metadata": {
        "id": "s_Is8Xa7ct_9"
      },
      "source": [
        "data_augmentation = tensorflow.keras.Sequential([\n",
        "  layers.experimental.preprocessing.RandomFlip(\"horizontal_and_vertical\", seed=42),\n",
        "  layers.experimental.preprocessing.RandomRotation(0.2,seed=42)\n",
        "])\n",
        "\n",
        "data_augmentation_whit_crop = tensorflow.keras.Sequential([\n",
        "  data_augmentation,\n",
        "  layers.experimental.preprocessing.CenterCrop(400,400),\n",
        "  layers.experimental.preprocessing.Resizing(450,450)\n",
        "])\n",
        "\n",
        "augmeted_all = []\n",
        "out_folder = \"./C-NMC_Leukemia/training_data/fold_a/all/\"\n",
        "if not os.path.exists(out_folder):\n",
        "  out_folder_a = \"./C-NMC_Leukemia/training_data/fold_a\"\n",
        "  os.mkdir(out_folder_a, mode=777)\n",
        "  os.mkdir(out_folder, mode=777)\n",
        "\n",
        "with tensorflow.device('/device:GPU:0'):\n",
        "  for j in tqdm(range(0, len(augmetedImage_all))):\n",
        "    image = imread(augmetedImage_all[j])\n",
        "    image2 = tensorflow.expand_dims(image, 0)\n",
        "    aug_img =  data_augmentation_whit_crop(image2) if j < 1000 else data_augmentation(image2)\n",
        "    imsave(out_folder + str(j) + '_' + os.path.basename(augmetedImage_all[j]), aug_img[0].numpy())\n",
        "\n",
        "augmeted_hem = []\n",
        "out_folder = \"./C-NMC_Leukemia/training_data/fold_a/hem/\"\n",
        "if not os.path.exists(out_folder):\n",
        "  os.mkdir(out_folder, mode=777)\n",
        "  \n",
        "with tensorflow.device('/device:GPU:0'):\n",
        "  for j in tqdm(range(0, len(augmetedImage_hem))):\n",
        "    image = imread(augmetedImage_hem[j])\n",
        "    image2 = tensorflow.expand_dims(image, 0)\n",
        "    aug_img = data_augmentation_whit_crop(image2) if j < 1000 else data_augmentation(image2)\n",
        "    imsave(out_folder + str(j) + '_' + os.path.basename(augmetedImage_hem[j]), aug_img[0].numpy())\n"
      ],
      "execution_count": null,
      "outputs": []
    },
    {
      "cell_type": "markdown",
      "metadata": {
        "id": "KoudFjJBvCx1"
      },
      "source": [
        "Aggiungo al dataset e alle label le immagini aumentate"
      ]
    },
    {
      "cell_type": "code",
      "metadata": {
        "id": "Ut4JCRzb5ROj"
      },
      "source": [
        "train_dataset_a_all = glob.glob('./C-NMC_Leukemia/training_data/fold_a/all/*.bmp')\n",
        "train_dataset_a_hem = glob.glob('./C-NMC_Leukemia/training_data/fold_a/hem/*.bmp')\n",
        "\n",
        "dataset = dataset + train_dataset_a_all + train_dataset_a_hem\n",
        "\n",
        "label_a_all = [\"1\" for x in range(len(train_dataset_a_all))] \n",
        "label_a_hem = [\"0\" for x in range(len(train_dataset_a_hem))] \n",
        "\n",
        "label = label+ label_a_all + label_a_hem"
      ],
      "execution_count": 6,
      "outputs": []
    },
    {
      "cell_type": "markdown",
      "metadata": {
        "id": "oRBZcKX_vaki"
      },
      "source": [
        "## Preprazione dati e modello\n",
        "In questa fase vengono preparati i dati per entrare nel modello e viene realizzato il vero e proprio modello\n",
        "\n",
        "### Preparazione dati"
      ]
    },
    {
      "cell_type": "code",
      "metadata": {
        "id": "-cIa9rub6R_N"
      },
      "source": [
        "X_val, Y_val = shuffle(dataset, label, random_state = 42)"
      ],
      "execution_count": 7,
      "outputs": []
    },
    {
      "cell_type": "code",
      "metadata": {
        "id": "xSF8yA6N65pt",
        "colab": {
          "base_uri": "https://localhost:8080/"
        },
        "outputId": "c5d82c5f-6d92-4215-a0e2-19693c5805d4"
      },
      "source": [
        "d = {'filename':X_val, 'category':Y_val}\n",
        "enteireData = pd.DataFrame(data=d)\n",
        "\n",
        "train_df, validate_df = train_test_split(enteireData, test_size = 0.20, random_state = 42)\n",
        "train_df = train_df.reset_index(drop = True)\n",
        "validate_df = validate_df.reset_index(drop = True)\n",
        "print(train_df)"
      ],
      "execution_count": 8,
      "outputs": [
        {
          "output_type": "stream",
          "text": [
            "                                                filename category\n",
            "0      ./C-NMC_Leukemia/training_data/fold_a/hem/2497...        0\n",
            "1      ./C-NMC_Leukemia/training_data/fold_2/all/UID_...        1\n",
            "2      ./C-NMC_Leukemia/training_data/fold_1/all/UID_...        1\n",
            "3      ./C-NMC_Leukemia/training_data/fold_2/all/UID_...        1\n",
            "4      ./C-NMC_Leukemia/training_data/fold_1/hem/UID_...        0\n",
            "...                                                  ...      ...\n",
            "15995  ./C-NMC_Leukemia/training_data/fold_a/hem/5748...        0\n",
            "15996  ./C-NMC_Leukemia/training_data/fold_0/hem/UID_...        0\n",
            "15997  ./C-NMC_Leukemia/training_data/fold_2/hem/UID_...        0\n",
            "15998  ./C-NMC_Leukemia/training_data/fold_a/hem/3656...        0\n",
            "15999  ./C-NMC_Leukemia/training_data/fold_a/hem/1064...        0\n",
            "\n",
            "[16000 rows x 2 columns]\n"
          ],
          "name": "stdout"
        }
      ]
    },
    {
      "cell_type": "code",
      "metadata": {
        "id": "pBcpHEJW8HlR",
        "colab": {
          "base_uri": "https://localhost:8080/",
          "height": 279
        },
        "outputId": "ae425e18-97dd-4e60-95d0-14d750b91773"
      },
      "source": [
        "train_df['category'].value_counts().plot.bar()\n"
      ],
      "execution_count": 9,
      "outputs": [
        {
          "output_type": "execute_result",
          "data": {
            "text/plain": [
              "<matplotlib.axes._subplots.AxesSubplot at 0x7ff232a5ead0>"
            ]
          },
          "metadata": {
            "tags": []
          },
          "execution_count": 9
        },
        {
          "output_type": "display_data",
          "data": {
            "image/png": "[encoded data removed]",
            "text/plain": [
              "<Figure size 432x288 with 1 Axes>"
            ]
          },
          "metadata": {
            "tags": [],
            "needs_background": "light"
          }
        }
      ]
    },
    {
      "cell_type": "code",
      "metadata": {
        "id": "diNtVE-v8O7u",
        "colab": {
          "base_uri": "https://localhost:8080/",
          "height": 279
        },
        "outputId": "8d9c9767-590d-4178-e2e5-14852c9d488d"
      },
      "source": [
        "validate_df['category'].value_counts().plot.bar()"
      ],
      "execution_count": 18,
      "outputs": [
        {
          "output_type": "execute_result",
          "data": {
            "text/plain": [
              "<matplotlib.axes._subplots.AxesSubplot at 0x7fd7ddd71390>"
            ]
          },
          "metadata": {
            "tags": []
          },
          "execution_count": 18
        },
        {
          "output_type": "display_data",
          "data": {
            "image/png": "[encoded data removed]",
            "text/plain": [
              "<Figure size 432x288 with 1 Axes>"
            ]
          },
          "metadata": {
            "tags": [],
            "needs_background": "light"
          }
        }
      ]
    },
    {
      "cell_type": "code",
      "metadata": {
        "id": "ZjYfzIcf9Ml8"
      },
      "source": [
        "batch_size = 128"
      ],
      "execution_count": 9,
      "outputs": []
    },
    {
      "cell_type": "markdown",
      "metadata": {
        "id": "yUSz3C2Av1oI"
      },
      "source": [
        "### Initializzazione generatori"
      ]
    },
    {
      "cell_type": "code",
      "metadata": {
        "id": "h0sk72C38Vpn",
        "colab": {
          "base_uri": "https://localhost:8080/"
        },
        "outputId": "4531821c-db71-4c36-a7e2-595ab1849b95"
      },
      "source": [
        "train_datagen = ImageDataGenerator(\n",
        "    rotation_range = 30,\n",
        "    rescale = 1 / 255.0,\n",
        "    shear_range = False,\n",
        "    zoom_range = False,\n",
        "    horizontal_flip = True,\n",
        "    vertical_flip = True,\n",
        "    width_shift_range = 0.1,\n",
        "    height_shift_range = 0.1\n",
        ")\n",
        "\n",
        "train_generator = train_datagen.flow_from_dataframe(\n",
        "    train_df, \n",
        "    \"./\",\n",
        "    x_col = 'filename',\n",
        "    y_col = 'category',\n",
        "    target_size = IMAGE_SIZE,\n",
        "    class_mode = 'categorical',\n",
        "    batch_size = batch_size\n",
        ")"
      ],
      "execution_count": 10,
      "outputs": [
        {
          "output_type": "stream",
          "text": [
            "Found 16000 validated image filenames belonging to 2 classes.\n"
          ],
          "name": "stdout"
        }
      ]
    },
    {
      "cell_type": "code",
      "metadata": {
        "id": "Quw28w7X9pF9",
        "colab": {
          "base_uri": "https://localhost:8080/"
        },
        "outputId": "96716490-901e-4f90-e302-5d166ce5bbe7"
      },
      "source": [
        "validation_datagen = ImageDataGenerator(\n",
        "    rotation_range = 30,\n",
        "    rescale = 1 / 255.0,\n",
        "    shear_range = False,\n",
        "    zoom_range = False,\n",
        "    horizontal_flip = True,\n",
        "    vertical_flip = True,\n",
        "    width_shift_range = 0.1,\n",
        "    height_shift_range = 0.1\n",
        ")\n",
        "\n",
        "validation_generator = train_datagen.flow_from_dataframe(\n",
        "    validate_df,\n",
        "    \"./\",\n",
        "    x_col = 'filename',\n",
        "    y_col = 'category',\n",
        "    target_size = IMAGE_SIZE,\n",
        "    class_mode = 'categorical',\n",
        "    batch_size = batch_size\n",
        ")"
      ],
      "execution_count": 11,
      "outputs": [
        {
          "output_type": "stream",
          "text": [
            "Found 4000 validated image filenames belonging to 2 classes.\n"
          ],
          "name": "stdout"
        }
      ]
    },
    {
      "cell_type": "code",
      "metadata": {
        "id": "B7b08Qyz9xse"
      },
      "source": [
        "# example_df = train_df.sample(n = 15).reset_index(drop = True)\n",
        "\n",
        "# example_generator = train_datagen.flow_from_dataframe(\n",
        "#     example_df,\n",
        "#     \"./\",\n",
        "#     x_col = 'filename',\n",
        "#     y_col = 'category',\n",
        "#     target_size = IMAGE_SIZE,\n",
        "#     class_mode = 'categorical',\n",
        "#     batch_size = batch_size\n",
        "# )\n",
        "\n",
        "# plt.figure(figsize = (12, 12))\n",
        "\n",
        "# for i in range(0, 64):\n",
        "#     plt.subplot(8, 8, i + 1)\n",
        "    \n",
        "#     for X_batch, Y_batch in example_generator:\n",
        "#         image = X_batch[0]\n",
        "#         plt.imshow(image)\n",
        "#         break\n",
        "\n",
        "# plt.tight_layout()\n",
        "# plt.show()"
      ],
      "execution_count": null,
      "outputs": []
    },
    {
      "cell_type": "code",
      "metadata": {
        "id": "9g_rOtqD-IPC"
      },
      "source": [
        "total_train = train_df.shape[0]\n",
        "total_validate = validate_df.shape[0]"
      ],
      "execution_count": 12,
      "outputs": []
    },
    {
      "cell_type": "markdown",
      "metadata": {
        "id": "BBPMYVfewACV"
      },
      "source": [
        "### Preparazione del modello"
      ]
    },
    {
      "cell_type": "markdown",
      "metadata": {
        "id": "OJp3JRphwEAg"
      },
      "source": [
        "Definizione delle callback e parametri per il fitting"
      ]
    },
    {
      "cell_type": "code",
      "metadata": {
        "id": "ABQy7hty4RwY"
      },
      "source": [
        "earlystop = EarlyStopping(monitor = \"val_accuracy\", patience = 10, verbose = 1)\n",
        "learning_rate_reduction = ReduceLROnPlateau(monitor = \"val_accuracy\", patience = 2, verbose = 1, factor = 0.5, min_lr = 0.00001)\n",
        "checkpoint = ModelCheckpoint(\"Xception_best_model.h5\", monitor = \"val_accuracy\", verbose = 1, save_best_only = True, mode = \"auto\")\n",
        "callbacks = [earlystop, learning_rate_reduction, checkpoint]\n"
      ],
      "execution_count": 13,
      "outputs": []
    },
    {
      "cell_type": "code",
      "metadata": {
        "colab": {
          "base_uri": "https://localhost:8080/"
        },
        "id": "7qH4JO6Iu9VO",
        "outputId": "9320608a-56e1-4fd7-c247-6de3d8ac0095"
      },
      "source": [
        "from tensorflow.keras.applications.xception import Xception, preprocess_input\n",
        "base_model = Xception(include_top=False, weights='imagenet', input_shape=(450,450,3))\n",
        "\n",
        "# Freeze the base_model\n",
        "base_model.trainable = False\n",
        "\n",
        "inputs = tensorflow.keras.Input(shape=(450, 450, 3))\n",
        "# We make sure that the base_model is running in inference mode here,\n",
        "# by passing `training=False`. This is important for fine-tuning, as you will\n",
        "# learn in a few paragraphs.\n",
        "x = base_model(inputs, training=False)\n",
        "# Convert features of shape `base_model.output_shape[1:]` to vectors\n",
        "x = tensorflow.keras.layers.GlobalAveragePooling2D()(x)\n",
        "# A Dense classifier with a single unit (binary classification)\n",
        "\n",
        "final_layer = tensorflow.keras.layers.Dense(2, activation = \"softmax\")(x)\n",
        "model = tensorflow.keras.Model(inputs, final_layer)\n",
        "model.compile(\n",
        "    loss=\"categorical_crossentropy\", \n",
        "    metrics = ['accuracy'], \n",
        "    optimizer = 'adam'\n",
        ")\n",
        "model.summary()"
      ],
      "execution_count": 22,
      "outputs": [
        {
          "output_type": "stream",
          "text": [
            "Model: \"model_1\"\n",
            "_________________________________________________________________\n",
            "Layer (type)                 Output Shape              Param #   \n",
            "=================================================================\n",
            "input_4 (InputLayer)         [(None, 450, 450, 3)]     0         \n",
            "_________________________________________________________________\n",
            "xception (Functional)        (None, 14, 14, 2048)      20861480  \n",
            "_________________________________________________________________\n",
            "global_average_pooling2d_1 ( (None, 2048)              0         \n",
            "_________________________________________________________________\n",
            "dense_1 (Dense)              (None, 2)                 4098      \n",
            "=================================================================\n",
            "Total params: 20,865,578\n",
            "Trainable params: 4,098\n",
            "Non-trainable params: 20,861,480\n",
            "_________________________________________________________________\n"
          ],
          "name": "stdout"
        }
      ]
    },
    {
      "cell_type": "code",
      "metadata": {
        "colab": {
          "base_uri": "https://localhost:8080/"
        },
        "id": "u53O1OK55TZK",
        "outputId": "674c83f7-2622-4ac3-c9c3-7838f5787900"
      },
      "source": [
        "epochs = 5\n",
        "with tensorflow.device('/device:GPU:0'):\n",
        "  model.fit(\n",
        "      train_generator, \n",
        "      epochs = epochs,\n",
        "      validation_data = validation_generator,\n",
        "      validation_steps = total_validate // batch_size,\n",
        "      steps_per_epoch = total_train // batch_size,\n",
        "      callbacks = callbacks\n",
        "  )\n",
        "\n"
      ],
      "execution_count": 15,
      "outputs": [
        {
          "output_type": "stream",
          "text": [
            "Epoch 1/5\n",
            "125/125 [==============================] - 988s 8s/step - loss: 0.5281 - accuracy: 0.7441 - val_loss: 0.4862 - val_accuracy: 0.7724\n",
            "\n",
            "Epoch 00001: val_accuracy improved from -inf to 0.77243, saving model to Xception_best_model.h5\n"
          ],
          "name": "stdout"
        },
        {
          "output_type": "stream",
          "text": [
            "/usr/local/lib/python3.7/dist-packages/tensorflow/python/keras/utils/generic_utils.py:497: CustomMaskWarning: Custom mask layers require a config and must override get_config. When loading, the custom mask layer must be passed to the custom_objects argument.\n",
            "  category=CustomMaskWarning)\n"
          ],
          "name": "stderr"
        },
        {
          "output_type": "stream",
          "text": [
            "Epoch 2/5\n",
            "125/125 [==============================] - 968s 8s/step - loss: 0.4725 - accuracy: 0.7795 - val_loss: 0.4668 - val_accuracy: 0.7848\n",
            "\n",
            "Epoch 00002: val_accuracy improved from 0.77243 to 0.78478, saving model to Xception_best_model.h5\n",
            "Epoch 3/5\n",
            "125/125 [==============================] - 964s 8s/step - loss: 0.4561 - accuracy: 0.7886 - val_loss: 0.4507 - val_accuracy: 0.7921\n",
            "\n",
            "Epoch 00003: val_accuracy improved from 0.78478 to 0.79209, saving model to Xception_best_model.h5\n",
            "Epoch 4/5\n",
            "125/125 [==============================] - 966s 8s/step - loss: 0.4483 - accuracy: 0.7930 - val_loss: 0.4515 - val_accuracy: 0.7886\n",
            "\n",
            "Epoch 00004: val_accuracy did not improve from 0.79209\n",
            "Epoch 5/5\n",
            "125/125 [==============================] - 966s 8s/step - loss: 0.4445 - accuracy: 0.7915 - val_loss: 0.4535 - val_accuracy: 0.7951\n",
            "\n",
            "Epoch 00005: val_accuracy improved from 0.79209 to 0.79511, saving model to Xception_best_model.h5\n"
          ],
          "name": "stdout"
        }
      ]
    },
    {
      "cell_type": "code",
      "metadata": {
        "id": "54VaohO31q3D"
      },
      "source": [
        "\n",
        "\n",
        "model.load_weights(\"Xception_best_model.h5\")\n",
        "\n"
      ],
      "execution_count": 28,
      "outputs": []
    },
    {
      "cell_type": "code",
      "metadata": {
        "id": "t8yI94swlCoP"
      },
      "source": [
        "earlystop = EarlyStopping(monitor = \"val_accuracy\", patience = 10, verbose = 1)\n",
        "learning_rate_reduction = ReduceLROnPlateau(monitor = \"val_accuracy\", patience = 2, verbose = 1, factor = 0.5, min_lr = 0.00001)\n",
        "checkpoint = ModelCheckpoint(\"Xception_best_model2.h5\", monitor = \"val_accuracy\", verbose = 1, save_best_only = True, mode = \"auto\")\n",
        "callbacks2 = [earlystop, learning_rate_reduction, checkpoint]"
      ],
      "execution_count": 30,
      "outputs": []
    },
    {
      "cell_type": "code",
      "metadata": {
        "colab": {
          "base_uri": "https://localhost:8080/"
        },
        "id": "Ya_cvzT1iyqi",
        "outputId": "305a84d1-aeee-4b80-b890-1ded640ccd85"
      },
      "source": [
        "epochs = 10\n",
        "model.fit(\n",
        "    train_generator, \n",
        "    epochs = epochs,\n",
        "    validation_data = validation_generator,\n",
        "    validation_steps = total_validate // batch_size,\n",
        "    steps_per_epoch = total_train // batch_size,\n",
        "    callbacks = callbacks2\n",
        " )"
      ],
      "execution_count": 31,
      "outputs": [
        {
          "output_type": "stream",
          "text": [
            "Epoch 1/10\n",
            "125/125 [==============================] - 993s 8s/step - loss: 0.4370 - accuracy: 0.8022 - val_loss: 0.4391 - val_accuracy: 0.8014\n",
            "\n",
            "Epoch 00001: val_accuracy improved from -inf to 0.80141, saving model to Xception_best_model2.h5\n"
          ],
          "name": "stdout"
        },
        {
          "output_type": "stream",
          "text": [
            "/usr/local/lib/python3.7/dist-packages/tensorflow/python/keras/utils/generic_utils.py:497: CustomMaskWarning: Custom mask layers require a config and must override get_config. When loading, the custom mask layer must be passed to the custom_objects argument.\n",
            "  category=CustomMaskWarning)\n"
          ],
          "name": "stderr"
        },
        {
          "output_type": "stream",
          "text": [
            "Epoch 2/10\n",
            "125/125 [==============================] - 999s 8s/step - loss: 0.4346 - accuracy: 0.7996 - val_loss: 0.4359 - val_accuracy: 0.8009\n",
            "\n",
            "Epoch 00002: val_accuracy did not improve from 0.80141\n",
            "Epoch 3/10\n",
            "125/125 [==============================] - 993s 8s/step - loss: 0.4257 - accuracy: 0.8051 - val_loss: 0.4289 - val_accuracy: 0.8082\n",
            "\n",
            "Epoch 00003: val_accuracy improved from 0.80141 to 0.80822, saving model to Xception_best_model2.h5\n",
            "Epoch 4/10\n",
            "125/125 [==============================] - 991s 8s/step - loss: 0.4254 - accuracy: 0.8082 - val_loss: 0.4222 - val_accuracy: 0.8082\n",
            "\n",
            "Epoch 00004: val_accuracy did not improve from 0.80822\n",
            "Epoch 5/10\n",
            "125/125 [==============================] - 984s 8s/step - loss: 0.4224 - accuracy: 0.8083 - val_loss: 0.4234 - val_accuracy: 0.8062\n",
            "\n",
            "Epoch 00005: ReduceLROnPlateau reducing learning rate to 0.0005000000237487257.\n",
            "\n",
            "Epoch 00005: val_accuracy did not improve from 0.80822\n",
            "Epoch 6/10\n",
            "125/125 [==============================] - 973s 8s/step - loss: 0.4220 - accuracy: 0.8102 - val_loss: 0.4176 - val_accuracy: 0.8122\n",
            "\n",
            "Epoch 00006: val_accuracy improved from 0.80822 to 0.81225, saving model to Xception_best_model2.h5\n",
            "Epoch 7/10\n",
            "125/125 [==============================] - 977s 8s/step - loss: 0.4187 - accuracy: 0.8109 - val_loss: 0.4226 - val_accuracy: 0.8085\n",
            "\n",
            "Epoch 00007: val_accuracy did not improve from 0.81225\n",
            "Epoch 8/10\n",
            "125/125 [==============================] - 979s 8s/step - loss: 0.4193 - accuracy: 0.8089 - val_loss: 0.4254 - val_accuracy: 0.8022\n",
            "\n",
            "Epoch 00008: ReduceLROnPlateau reducing learning rate to 0.0002500000118743628.\n",
            "\n",
            "Epoch 00008: val_accuracy did not improve from 0.81225\n",
            "Epoch 9/10\n",
            "125/125 [==============================] - 984s 8s/step - loss: 0.4161 - accuracy: 0.8110 - val_loss: 0.4213 - val_accuracy: 0.8135\n",
            "\n",
            "Epoch 00009: val_accuracy improved from 0.81225 to 0.81351, saving model to Xception_best_model2.h5\n",
            "Epoch 10/10\n",
            "125/125 [==============================] - 988s 8s/step - loss: 0.4154 - accuracy: 0.8131 - val_loss: 0.4149 - val_accuracy: 0.8095\n",
            "\n",
            "Epoch 00010: val_accuracy did not improve from 0.81351\n"
          ],
          "name": "stdout"
        },
        {
          "output_type": "execute_result",
          "data": {
            "text/plain": [
              "<tensorflow.python.keras.callbacks.History at 0x7fa42d929810>"
            ]
          },
          "metadata": {
            "tags": []
          },
          "execution_count": 31
        }
      ]
    },
    {
      "cell_type": "code",
      "metadata": {
        "id": "V8nkt1-Il4EU"
      },
      "source": [
        "\n",
        "from tensorflow.keras.models import load_model\n",
        "new_model = tensorflow.keras.models.load_model(\"Xception_best_model2.h5\")\n"
      ],
      "execution_count": 40,
      "outputs": []
    },
    {
      "cell_type": "code",
      "metadata": {
        "colab": {
          "base_uri": "https://localhost:8080/"
        },
        "id": "63MYLVUDLfTB",
        "outputId": "2230ce5a-ef0c-43b7-d3b0-e1f262eadd85"
      },
      "source": [
        "new_model.summary()"
      ],
      "execution_count": 41,
      "outputs": [
        {
          "output_type": "stream",
          "text": [
            "Model: \"model_1\"\n",
            "_________________________________________________________________\n",
            "Layer (type)                 Output Shape              Param #   \n",
            "=================================================================\n",
            "input_4 (InputLayer)         [(None, 450, 450, 3)]     0         \n",
            "_________________________________________________________________\n",
            "xception (Functional)        (None, 14, 14, 2048)      20861480  \n",
            "_________________________________________________________________\n",
            "global_average_pooling2d_1 ( (None, 2048)              0         \n",
            "_________________________________________________________________\n",
            "dense_1 (Dense)              (None, 2)                 4098      \n",
            "=================================================================\n",
            "Total params: 20,865,578\n",
            "Trainable params: 4,098\n",
            "Non-trainable params: 20,861,480\n",
            "_________________________________________________________________\n"
          ],
          "name": "stdout"
        }
      ]
    },
    {
      "cell_type": "code",
      "metadata": {
        "id": "LsW5xIQOK6Pd"
      },
      "source": [
        "for i,layer in enumerate(new_model.layers):\n",
        "  if i < 115:\n",
        "    layers.trainable = False\n",
        "  else:\n",
        "    layer.trainable = True"
      ],
      "execution_count": 43,
      "outputs": []
    },
    {
      "cell_type": "code",
      "metadata": {
        "id": "1YBWuAogmbJL"
      },
      "source": [
        "model.compile(\n",
        "    loss=\"categorical_crossentropy\", \n",
        "    metrics = ['accuracy'], \n",
        "    optimizer = 'adam'\n",
        ")\n",
        "earlystop = EarlyStopping(monitor = \"val_accuracy\", patience = 10, verbose = 1)\n",
        "learning_rate_reduction = ReduceLROnPlateau(monitor = \"val_accuracy\", patience = 2, verbose = 1, factor = 0.5, min_lr = 0.00001)\n",
        "checkpoint =  ModelCheckpoint(\"final_Xception.h5\", monitor = \"val_accuracy\", verbose = 1, save_best_only = True, mode = \"auto\")\n",
        "callbacks3 = [earlystop, learning_rate_reduction, checkpoint]"
      ],
      "execution_count": 46,
      "outputs": []
    },
    {
      "cell_type": "code",
      "metadata": {
        "id": "WMFKT3ujMSrh"
      },
      "source": [
        "epochs = 10"
      ],
      "execution_count": 47,
      "outputs": []
    },
    {
      "cell_type": "code",
      "metadata": {
        "colab": {
          "base_uri": "https://localhost:8080/"
        },
        "id": "4WAzBV-GmlY9",
        "outputId": "873ee653-17c2-4886-b76a-0ce895f79b8a"
      },
      "source": [
        "history = model.fit(\n",
        "    train_generator, \n",
        "    epochs = epochs,\n",
        "    validation_data = validation_generator,\n",
        "    validation_steps = total_validate // batch_size,\n",
        "    steps_per_epoch = total_train // batch_size,\n",
        "    callbacks = callbacks\n",
        ")"
      ],
      "execution_count": null,
      "outputs": [
        {
          "output_type": "stream",
          "text": [
            "Epoch 1/10\n",
            " 34/125 [=======>......................] - ETA: 9:43 - loss: 0.4164 - accuracy: 0.8174"
          ],
          "name": "stdout"
        }
      ]
    },
    {
      "cell_type": "code",
      "metadata": {
        "id": "d2MOkBG5-bnG"
      },
      "source": [
        "plt.plot(history.history[\"accuracy\"])\n",
        "plt.plot(history.history[\"val_accuracy\"])\n",
        "plt.title(\"Model accuracy\")\n",
        "plt.ylabel(\"%\")\n",
        "plt.xlabel(\"epoch\")\n",
        "plt.legend([\"train accuracy\",\"validation accuracy\"], loc=\"upper left\")\n",
        "plt.show()\n",
        "\n"
      ],
      "execution_count": null,
      "outputs": []
    },
    {
      "cell_type": "code",
      "metadata": {
        "id": "s18tFLCguqvO"
      },
      "source": [
        "plt.plot(history.history[\"val_accuracy\"])\n",
        "plt.plot(history.history[\"val_loss\"])\n",
        "plt.title(\"Evaluation\")\n",
        "plt.ylabel(\"\")\n",
        "plt.xlabel(\"epoch\")\n",
        "plt.legend([\"validation accuracy\",\"validation loss\"], loc=\"upper left\")\n",
        "plt.show()"
      ],
      "execution_count": null,
      "outputs": []
    },
    {
      "cell_type": "code",
      "metadata": {
        "id": "_D2BVp8LJnc3"
      },
      "source": [
        "inp_test_path = \"/content/C-NMC_Leukemia/validation_data/C-NMC_test_prelim_phase_data/\"\n",
        "\n",
        "valid_data_file = [inp_test_path + x for x in valid_data[\"new_names\"]]\n",
        "valid_data_label = [str(x) for x in valid_data[\"labels\"]]\n",
        "# with tensorflow.device('/device:GPU:0'):\n",
        "#   for filename in tqdm(valid_data_file):\n",
        "#     image = imread(filename)\n",
        "#     img = rgb_to_cmyk(image)\n",
        "#     imsave(filename, img)\n",
        "\n",
        "test_d = {'filename':valid_data_file, 'category':valid_data_label}\n",
        "enteireData_test = pd.DataFrame(data=test_d)\n",
        "\n",
        "print(enteireData_test[enteireData_test['category'] == '1'].count())"
      ],
      "execution_count": null,
      "outputs": []
    },
    {
      "cell_type": "code",
      "metadata": {
        "id": "Y_HdrAKj-FMi"
      },
      "source": [
        "test_datagen = ImageDataGenerator(\n",
        "    rescale = 1 / 255.0,\n",
        ")\n",
        "\n",
        "test_generator = test_datagen.flow_from_dataframe(\n",
        "    enteireData_test,\n",
        "    \"./\",\n",
        "    x_col = 'filename',\n",
        "    y_col = 'category',\n",
        "    target_size = IMAGE_SIZE,\n",
        "    class_mode = 'categorical',\n",
        "    batch_size = batch_size\n",
        ")"
      ],
      "execution_count": null,
      "outputs": []
    },
    {
      "cell_type": "code",
      "metadata": {
        "id": "nHP1hUmT-nUD"
      },
      "source": [
        "Y_pred = model.predict_generator(test_generator, enteireData_test.shape[0] // batch_size+1)\n",
        "y_pred = np.argmax(Y_pred, axis=1)"
      ],
      "execution_count": null,
      "outputs": []
    },
    {
      "cell_type": "code",
      "metadata": {
        "id": "sSMHbItuBBD_"
      },
      "source": [
        "from sklearn.metrics import roc_curve\n",
        "#y_pred_keras = keras_model.predict(X_test).ravel()\n",
        "fpr_keras, tpr_keras, thresholds_keras = roc_curve(test_generator.classes, y_pred)"
      ],
      "execution_count": null,
      "outputs": []
    },
    {
      "cell_type": "code",
      "metadata": {
        "id": "MXQ_lWFRJQXJ"
      },
      "source": [
        "print('Confusion Matrix')\n",
        "print(enteireData_test.shape[0])\n",
        "print(confusion_matrix(test_generator.classes, y_pred))\n",
        "\n",
        "print('Classification Report')\n",
        "target_names = ['Hem', 'All']\n",
        "print(classification_report(test_generator.classes, y_pred, target_names=target_names))"
      ],
      "execution_count": null,
      "outputs": []
    },
    {
      "cell_type": "code",
      "metadata": {
        "id": "xm1T-3pm-cF4"
      },
      "source": [
        "import numpy as np\n",
        "\n",
        "\n",
        "def plot_confusion_matrix(cm,\n",
        "                          target_names,\n",
        "                          title = 'Confusion matrix',\n",
        "                          cmap = None,\n",
        "                          normalize = True):\n",
        "\n",
        "    import matplotlib.pyplot as plt\n",
        "    import numpy as np\n",
        "    import itertools\n",
        "\n",
        "    accuracy = np.trace(cm) / float(np.sum(cm))\n",
        "    misclass = 1 - accuracy\n",
        "\n",
        "    if cmap is None:\n",
        "        cmap = plt.get_cmap('Reds')\n",
        "\n",
        "    plt.figure(figsize = (8, 6))\n",
        "    plt.imshow(cm, interpolation = 'nearest', cmap = cmap)\n",
        "    plt.title(title)\n",
        "    plt.colorbar()\n",
        "\n",
        "    if target_names is not None:\n",
        "        tick_marks = np.arange(len(target_names))\n",
        "        plt.xticks(tick_marks, target_names, rotation = 45)\n",
        "        plt.yticks(tick_marks, target_names)\n",
        "\n",
        "    if normalize:\n",
        "        cm = cm.astype('float') / cm.sum(axis = 1)[:, np.newaxis]\n",
        "\n",
        "\n",
        "    thresh = cm.max() / 1.5 if normalize else cm.max() / 2\n",
        "    for i, j in itertools.product(range(cm.shape[0]), range(cm.shape[1])):\n",
        "        if normalize:\n",
        "            plt.text(j, i, \"{:0.4f}\".format(cm[i, j]),\n",
        "                     horizontalalignment = \"center\",\n",
        "                     color = \"white\" if cm[i, j] > thresh else \"black\")\n",
        "        else:\n",
        "            plt.text(j, i, \"{:,}\".format(cm[i, j]),\n",
        "                     horizontalalignment = \"center\",\n",
        "                     color = \"white\" if cm[i, j] > thresh else \"black\")\n",
        "\n",
        "\n",
        "    plt.tight_layout()\n",
        "    plt.ylabel('True label')\n",
        "    plt.xlabel('Predicted label\\naccuracy = {:0.4f}; misclass = {:0.4f}'.format(accuracy, misclass))\n",
        "    plt.show()\n",
        "\n",
        "img1 = plot_confusion_matrix(cm = np.array([[183, 465],[317, 902]]), \n",
        "                            normalize = False,\n",
        "                            target_names = ['Hem', 'All'],\n",
        "                            title = \"Confusion Matrix without Normalization\")\n",
        "\n",
        "print(\"\\n\\n\")\n",
        "\n",
        "# img2 = plot_confusion_matrix(cm = np.array([[2808,  192],\n",
        "#                                             [227,  2773]]), \n",
        "#                             normalize = True,\n",
        "#                             target_names = ['all', 'hem'],\n",
        "#                             title = \"Confusion Matrix with Normalization\")"
      ],
      "execution_count": null,
      "outputs": []
    },
    {
      "cell_type": "code",
      "metadata": {
        "id": "mLRVP4hj6xPE"
      },
      "source": [
        ""
      ],
      "execution_count": null,
      "outputs": []
    }
  ]
}